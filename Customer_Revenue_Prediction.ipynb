{
 "cells": [
  {
   "cell_type": "markdown",
   "id": "5ba1e623",
   "metadata": {},
   "source": [
    "# Customer Revenue Prediction\n",
    "\n",
    "Customers are the backbone of any modern business. They can lead your business to the greater heights if you know how to leverage their participation. Customers invest in your services and products at various stages of their customers journey which then are called Customer Revenue.\n",
    "<br>\n",
    "These revenue can be in the form of one-time sales or the recurring revenue."
   ]
  },
  {
   "cell_type": "markdown",
   "id": "a9772da5",
   "metadata": {},
   "source": [
    "### Importing Libraries"
   ]
  },
  {
   "cell_type": "code",
   "execution_count": 90,
   "id": "ad55e34e",
   "metadata": {},
   "outputs": [],
   "source": [
    "import numpy as np\n",
    "import pandas as pd\n",
    "import seaborn as sns\n",
    "import matplotlib.pyplot as plt\n",
    "%matplotlib inline "
   ]
  },
  {
   "cell_type": "markdown",
   "id": "3cc3b399",
   "metadata": {},
   "source": [
    "### Reading Data"
   ]
  },
  {
   "cell_type": "code",
   "execution_count": 91,
   "id": "e8d8a7a4",
   "metadata": {},
   "outputs": [
    {
     "data": {
      "text/html": [
       "<div>\n",
       "<style scoped>\n",
       "    .dataframe tbody tr th:only-of-type {\n",
       "        vertical-align: middle;\n",
       "    }\n",
       "\n",
       "    .dataframe tbody tr th {\n",
       "        vertical-align: top;\n",
       "    }\n",
       "\n",
       "    .dataframe thead th {\n",
       "        text-align: right;\n",
       "    }\n",
       "</style>\n",
       "<table border=\"1\" class=\"dataframe\">\n",
       "  <thead>\n",
       "    <tr style=\"text-align: right;\">\n",
       "      <th></th>\n",
       "      <th>Administrative</th>\n",
       "      <th>Administrative_Duration</th>\n",
       "      <th>Informational</th>\n",
       "      <th>Informational_Duration</th>\n",
       "      <th>ProductRelated</th>\n",
       "      <th>ProductRelated_Duration</th>\n",
       "      <th>BounceRates</th>\n",
       "      <th>ExitRates</th>\n",
       "      <th>PageValues</th>\n",
       "      <th>SpecialDay</th>\n",
       "      <th>Month</th>\n",
       "      <th>OperatingSystems</th>\n",
       "      <th>Browser</th>\n",
       "      <th>Region</th>\n",
       "      <th>TrafficType</th>\n",
       "      <th>VisitorType</th>\n",
       "      <th>Weekend</th>\n",
       "      <th>Revenue</th>\n",
       "    </tr>\n",
       "  </thead>\n",
       "  <tbody>\n",
       "    <tr>\n",
       "      <th>0</th>\n",
       "      <td>0</td>\n",
       "      <td>0.0</td>\n",
       "      <td>0</td>\n",
       "      <td>0.0</td>\n",
       "      <td>1</td>\n",
       "      <td>0.000000</td>\n",
       "      <td>0.20</td>\n",
       "      <td>0.20</td>\n",
       "      <td>0.0</td>\n",
       "      <td>0.0</td>\n",
       "      <td>Feb</td>\n",
       "      <td>1</td>\n",
       "      <td>1</td>\n",
       "      <td>1</td>\n",
       "      <td>1</td>\n",
       "      <td>Returning_Visitor</td>\n",
       "      <td>False</td>\n",
       "      <td>False</td>\n",
       "    </tr>\n",
       "    <tr>\n",
       "      <th>1</th>\n",
       "      <td>0</td>\n",
       "      <td>0.0</td>\n",
       "      <td>0</td>\n",
       "      <td>0.0</td>\n",
       "      <td>2</td>\n",
       "      <td>64.000000</td>\n",
       "      <td>0.00</td>\n",
       "      <td>0.10</td>\n",
       "      <td>0.0</td>\n",
       "      <td>0.0</td>\n",
       "      <td>Feb</td>\n",
       "      <td>2</td>\n",
       "      <td>2</td>\n",
       "      <td>1</td>\n",
       "      <td>2</td>\n",
       "      <td>Returning_Visitor</td>\n",
       "      <td>False</td>\n",
       "      <td>False</td>\n",
       "    </tr>\n",
       "    <tr>\n",
       "      <th>2</th>\n",
       "      <td>0</td>\n",
       "      <td>0.0</td>\n",
       "      <td>0</td>\n",
       "      <td>0.0</td>\n",
       "      <td>1</td>\n",
       "      <td>0.000000</td>\n",
       "      <td>0.20</td>\n",
       "      <td>0.20</td>\n",
       "      <td>0.0</td>\n",
       "      <td>0.0</td>\n",
       "      <td>Feb</td>\n",
       "      <td>4</td>\n",
       "      <td>1</td>\n",
       "      <td>9</td>\n",
       "      <td>3</td>\n",
       "      <td>Returning_Visitor</td>\n",
       "      <td>False</td>\n",
       "      <td>False</td>\n",
       "    </tr>\n",
       "    <tr>\n",
       "      <th>3</th>\n",
       "      <td>0</td>\n",
       "      <td>0.0</td>\n",
       "      <td>0</td>\n",
       "      <td>0.0</td>\n",
       "      <td>2</td>\n",
       "      <td>2.666667</td>\n",
       "      <td>0.05</td>\n",
       "      <td>0.14</td>\n",
       "      <td>0.0</td>\n",
       "      <td>0.0</td>\n",
       "      <td>Feb</td>\n",
       "      <td>3</td>\n",
       "      <td>2</td>\n",
       "      <td>2</td>\n",
       "      <td>4</td>\n",
       "      <td>Returning_Visitor</td>\n",
       "      <td>False</td>\n",
       "      <td>False</td>\n",
       "    </tr>\n",
       "    <tr>\n",
       "      <th>4</th>\n",
       "      <td>0</td>\n",
       "      <td>0.0</td>\n",
       "      <td>0</td>\n",
       "      <td>0.0</td>\n",
       "      <td>10</td>\n",
       "      <td>627.500000</td>\n",
       "      <td>0.02</td>\n",
       "      <td>0.05</td>\n",
       "      <td>0.0</td>\n",
       "      <td>0.0</td>\n",
       "      <td>Feb</td>\n",
       "      <td>3</td>\n",
       "      <td>3</td>\n",
       "      <td>1</td>\n",
       "      <td>4</td>\n",
       "      <td>Returning_Visitor</td>\n",
       "      <td>True</td>\n",
       "      <td>False</td>\n",
       "    </tr>\n",
       "  </tbody>\n",
       "</table>\n",
       "</div>"
      ],
      "text/plain": [
       "   Administrative  Administrative_Duration  Informational  \\\n",
       "0               0                      0.0              0   \n",
       "1               0                      0.0              0   \n",
       "2               0                      0.0              0   \n",
       "3               0                      0.0              0   \n",
       "4               0                      0.0              0   \n",
       "\n",
       "   Informational_Duration  ProductRelated  ProductRelated_Duration  \\\n",
       "0                     0.0               1                 0.000000   \n",
       "1                     0.0               2                64.000000   \n",
       "2                     0.0               1                 0.000000   \n",
       "3                     0.0               2                 2.666667   \n",
       "4                     0.0              10               627.500000   \n",
       "\n",
       "   BounceRates  ExitRates  PageValues  SpecialDay Month  OperatingSystems  \\\n",
       "0         0.20       0.20         0.0         0.0   Feb                 1   \n",
       "1         0.00       0.10         0.0         0.0   Feb                 2   \n",
       "2         0.20       0.20         0.0         0.0   Feb                 4   \n",
       "3         0.05       0.14         0.0         0.0   Feb                 3   \n",
       "4         0.02       0.05         0.0         0.0   Feb                 3   \n",
       "\n",
       "   Browser  Region  TrafficType        VisitorType  Weekend  Revenue  \n",
       "0        1       1            1  Returning_Visitor    False    False  \n",
       "1        2       1            2  Returning_Visitor    False    False  \n",
       "2        1       9            3  Returning_Visitor    False    False  \n",
       "3        2       2            4  Returning_Visitor    False    False  \n",
       "4        3       1            4  Returning_Visitor     True    False  "
      ]
     },
     "execution_count": 91,
     "metadata": {},
     "output_type": "execute_result"
    }
   ],
   "source": [
    "shop = pd.read_csv(\"online_shoppers_intention.csv\")\n",
    "shop.head()"
   ]
  },
  {
   "cell_type": "markdown",
   "id": "4e41d7c6",
   "metadata": {},
   "source": [
    "Our target column is: Revenue - A boolean representing whether or not the user completed the purchase."
   ]
  },
  {
   "cell_type": "markdown",
   "id": "a1e56016",
   "metadata": {},
   "source": [
    "## Exploratory Data Analysis"
   ]
  },
  {
   "cell_type": "markdown",
   "id": "b532734b",
   "metadata": {},
   "source": [
    "### Statistical Description "
   ]
  },
  {
   "cell_type": "code",
   "execution_count": 92,
   "id": "ad70b8c2",
   "metadata": {},
   "outputs": [
    {
     "data": {
      "text/html": [
       "<div>\n",
       "<style scoped>\n",
       "    .dataframe tbody tr th:only-of-type {\n",
       "        vertical-align: middle;\n",
       "    }\n",
       "\n",
       "    .dataframe tbody tr th {\n",
       "        vertical-align: top;\n",
       "    }\n",
       "\n",
       "    .dataframe thead th {\n",
       "        text-align: right;\n",
       "    }\n",
       "</style>\n",
       "<table border=\"1\" class=\"dataframe\">\n",
       "  <thead>\n",
       "    <tr style=\"text-align: right;\">\n",
       "      <th></th>\n",
       "      <th>Administrative</th>\n",
       "      <th>Administrative_Duration</th>\n",
       "      <th>Informational</th>\n",
       "      <th>Informational_Duration</th>\n",
       "      <th>ProductRelated</th>\n",
       "      <th>ProductRelated_Duration</th>\n",
       "      <th>BounceRates</th>\n",
       "      <th>ExitRates</th>\n",
       "      <th>PageValues</th>\n",
       "      <th>SpecialDay</th>\n",
       "      <th>OperatingSystems</th>\n",
       "      <th>Browser</th>\n",
       "      <th>Region</th>\n",
       "      <th>TrafficType</th>\n",
       "    </tr>\n",
       "  </thead>\n",
       "  <tbody>\n",
       "    <tr>\n",
       "      <th>count</th>\n",
       "      <td>12330.000000</td>\n",
       "      <td>12330.000000</td>\n",
       "      <td>12330.000000</td>\n",
       "      <td>12330.000000</td>\n",
       "      <td>12330.000000</td>\n",
       "      <td>12330.000000</td>\n",
       "      <td>12330.000000</td>\n",
       "      <td>12330.000000</td>\n",
       "      <td>12330.000000</td>\n",
       "      <td>12330.000000</td>\n",
       "      <td>12330.000000</td>\n",
       "      <td>12330.000000</td>\n",
       "      <td>12330.000000</td>\n",
       "      <td>12330.000000</td>\n",
       "    </tr>\n",
       "    <tr>\n",
       "      <th>mean</th>\n",
       "      <td>2.315166</td>\n",
       "      <td>80.818611</td>\n",
       "      <td>0.503569</td>\n",
       "      <td>34.472398</td>\n",
       "      <td>31.731468</td>\n",
       "      <td>1194.746220</td>\n",
       "      <td>0.022191</td>\n",
       "      <td>0.043073</td>\n",
       "      <td>5.889258</td>\n",
       "      <td>0.061427</td>\n",
       "      <td>2.124006</td>\n",
       "      <td>2.357097</td>\n",
       "      <td>3.147364</td>\n",
       "      <td>4.069586</td>\n",
       "    </tr>\n",
       "    <tr>\n",
       "      <th>std</th>\n",
       "      <td>3.321784</td>\n",
       "      <td>176.779107</td>\n",
       "      <td>1.270156</td>\n",
       "      <td>140.749294</td>\n",
       "      <td>44.475503</td>\n",
       "      <td>1913.669288</td>\n",
       "      <td>0.048488</td>\n",
       "      <td>0.048597</td>\n",
       "      <td>18.568437</td>\n",
       "      <td>0.198917</td>\n",
       "      <td>0.911325</td>\n",
       "      <td>1.717277</td>\n",
       "      <td>2.401591</td>\n",
       "      <td>4.025169</td>\n",
       "    </tr>\n",
       "    <tr>\n",
       "      <th>min</th>\n",
       "      <td>0.000000</td>\n",
       "      <td>0.000000</td>\n",
       "      <td>0.000000</td>\n",
       "      <td>0.000000</td>\n",
       "      <td>0.000000</td>\n",
       "      <td>0.000000</td>\n",
       "      <td>0.000000</td>\n",
       "      <td>0.000000</td>\n",
       "      <td>0.000000</td>\n",
       "      <td>0.000000</td>\n",
       "      <td>1.000000</td>\n",
       "      <td>1.000000</td>\n",
       "      <td>1.000000</td>\n",
       "      <td>1.000000</td>\n",
       "    </tr>\n",
       "    <tr>\n",
       "      <th>25%</th>\n",
       "      <td>0.000000</td>\n",
       "      <td>0.000000</td>\n",
       "      <td>0.000000</td>\n",
       "      <td>0.000000</td>\n",
       "      <td>7.000000</td>\n",
       "      <td>184.137500</td>\n",
       "      <td>0.000000</td>\n",
       "      <td>0.014286</td>\n",
       "      <td>0.000000</td>\n",
       "      <td>0.000000</td>\n",
       "      <td>2.000000</td>\n",
       "      <td>2.000000</td>\n",
       "      <td>1.000000</td>\n",
       "      <td>2.000000</td>\n",
       "    </tr>\n",
       "    <tr>\n",
       "      <th>50%</th>\n",
       "      <td>1.000000</td>\n",
       "      <td>7.500000</td>\n",
       "      <td>0.000000</td>\n",
       "      <td>0.000000</td>\n",
       "      <td>18.000000</td>\n",
       "      <td>598.936905</td>\n",
       "      <td>0.003112</td>\n",
       "      <td>0.025156</td>\n",
       "      <td>0.000000</td>\n",
       "      <td>0.000000</td>\n",
       "      <td>2.000000</td>\n",
       "      <td>2.000000</td>\n",
       "      <td>3.000000</td>\n",
       "      <td>2.000000</td>\n",
       "    </tr>\n",
       "    <tr>\n",
       "      <th>75%</th>\n",
       "      <td>4.000000</td>\n",
       "      <td>93.256250</td>\n",
       "      <td>0.000000</td>\n",
       "      <td>0.000000</td>\n",
       "      <td>38.000000</td>\n",
       "      <td>1464.157214</td>\n",
       "      <td>0.016813</td>\n",
       "      <td>0.050000</td>\n",
       "      <td>0.000000</td>\n",
       "      <td>0.000000</td>\n",
       "      <td>3.000000</td>\n",
       "      <td>2.000000</td>\n",
       "      <td>4.000000</td>\n",
       "      <td>4.000000</td>\n",
       "    </tr>\n",
       "    <tr>\n",
       "      <th>max</th>\n",
       "      <td>27.000000</td>\n",
       "      <td>3398.750000</td>\n",
       "      <td>24.000000</td>\n",
       "      <td>2549.375000</td>\n",
       "      <td>705.000000</td>\n",
       "      <td>63973.522230</td>\n",
       "      <td>0.200000</td>\n",
       "      <td>0.200000</td>\n",
       "      <td>361.763742</td>\n",
       "      <td>1.000000</td>\n",
       "      <td>8.000000</td>\n",
       "      <td>13.000000</td>\n",
       "      <td>9.000000</td>\n",
       "      <td>20.000000</td>\n",
       "    </tr>\n",
       "  </tbody>\n",
       "</table>\n",
       "</div>"
      ],
      "text/plain": [
       "       Administrative  Administrative_Duration  Informational  \\\n",
       "count    12330.000000             12330.000000   12330.000000   \n",
       "mean         2.315166                80.818611       0.503569   \n",
       "std          3.321784               176.779107       1.270156   \n",
       "min          0.000000                 0.000000       0.000000   \n",
       "25%          0.000000                 0.000000       0.000000   \n",
       "50%          1.000000                 7.500000       0.000000   \n",
       "75%          4.000000                93.256250       0.000000   \n",
       "max         27.000000              3398.750000      24.000000   \n",
       "\n",
       "       Informational_Duration  ProductRelated  ProductRelated_Duration  \\\n",
       "count            12330.000000    12330.000000             12330.000000   \n",
       "mean                34.472398       31.731468              1194.746220   \n",
       "std                140.749294       44.475503              1913.669288   \n",
       "min                  0.000000        0.000000                 0.000000   \n",
       "25%                  0.000000        7.000000               184.137500   \n",
       "50%                  0.000000       18.000000               598.936905   \n",
       "75%                  0.000000       38.000000              1464.157214   \n",
       "max               2549.375000      705.000000             63973.522230   \n",
       "\n",
       "        BounceRates     ExitRates    PageValues    SpecialDay  \\\n",
       "count  12330.000000  12330.000000  12330.000000  12330.000000   \n",
       "mean       0.022191      0.043073      5.889258      0.061427   \n",
       "std        0.048488      0.048597     18.568437      0.198917   \n",
       "min        0.000000      0.000000      0.000000      0.000000   \n",
       "25%        0.000000      0.014286      0.000000      0.000000   \n",
       "50%        0.003112      0.025156      0.000000      0.000000   \n",
       "75%        0.016813      0.050000      0.000000      0.000000   \n",
       "max        0.200000      0.200000    361.763742      1.000000   \n",
       "\n",
       "       OperatingSystems       Browser        Region   TrafficType  \n",
       "count      12330.000000  12330.000000  12330.000000  12330.000000  \n",
       "mean           2.124006      2.357097      3.147364      4.069586  \n",
       "std            0.911325      1.717277      2.401591      4.025169  \n",
       "min            1.000000      1.000000      1.000000      1.000000  \n",
       "25%            2.000000      2.000000      1.000000      2.000000  \n",
       "50%            2.000000      2.000000      3.000000      2.000000  \n",
       "75%            3.000000      2.000000      4.000000      4.000000  \n",
       "max            8.000000     13.000000      9.000000     20.000000  "
      ]
     },
     "execution_count": 92,
     "metadata": {},
     "output_type": "execute_result"
    }
   ],
   "source": [
    "shop.describe()"
   ]
  },
  {
   "cell_type": "markdown",
   "id": "d3a8c097",
   "metadata": {},
   "source": [
    "### Shape of the dataset"
   ]
  },
  {
   "cell_type": "code",
   "execution_count": 93,
   "id": "1be84438",
   "metadata": {},
   "outputs": [
    {
     "data": {
      "text/plain": [
       "(12330, 18)"
      ]
     },
     "execution_count": 93,
     "metadata": {},
     "output_type": "execute_result"
    }
   ],
   "source": [
    "shop.shape"
   ]
  },
  {
   "cell_type": "markdown",
   "id": "eeaac3ae",
   "metadata": {},
   "source": [
    "### Finding Missing Values"
   ]
  },
  {
   "cell_type": "code",
   "execution_count": 94,
   "id": "e29d35b4",
   "metadata": {},
   "outputs": [
    {
     "data": {
      "text/plain": [
       "Administrative             0\n",
       "Administrative_Duration    0\n",
       "Informational              0\n",
       "Informational_Duration     0\n",
       "ProductRelated             0\n",
       "ProductRelated_Duration    0\n",
       "BounceRates                0\n",
       "ExitRates                  0\n",
       "PageValues                 0\n",
       "SpecialDay                 0\n",
       "Month                      0\n",
       "OperatingSystems           0\n",
       "Browser                    0\n",
       "Region                     0\n",
       "TrafficType                0\n",
       "VisitorType                0\n",
       "Weekend                    0\n",
       "Revenue                    0\n",
       "dtype: int64"
      ]
     },
     "execution_count": 94,
     "metadata": {},
     "output_type": "execute_result"
    }
   ],
   "source": [
    "shop.isnull().sum()"
   ]
  },
  {
   "cell_type": "markdown",
   "id": "4a21c69f",
   "metadata": {},
   "source": [
    "### Information about the data"
   ]
  },
  {
   "cell_type": "code",
   "execution_count": 95,
   "id": "64a8855e",
   "metadata": {},
   "outputs": [
    {
     "name": "stdout",
     "output_type": "stream",
     "text": [
      "<class 'pandas.core.frame.DataFrame'>\n",
      "RangeIndex: 12330 entries, 0 to 12329\n",
      "Data columns (total 18 columns):\n",
      " #   Column                   Non-Null Count  Dtype  \n",
      "---  ------                   --------------  -----  \n",
      " 0   Administrative           12330 non-null  int64  \n",
      " 1   Administrative_Duration  12330 non-null  float64\n",
      " 2   Informational            12330 non-null  int64  \n",
      " 3   Informational_Duration   12330 non-null  float64\n",
      " 4   ProductRelated           12330 non-null  int64  \n",
      " 5   ProductRelated_Duration  12330 non-null  float64\n",
      " 6   BounceRates              12330 non-null  float64\n",
      " 7   ExitRates                12330 non-null  float64\n",
      " 8   PageValues               12330 non-null  float64\n",
      " 9   SpecialDay               12330 non-null  float64\n",
      " 10  Month                    12330 non-null  object \n",
      " 11  OperatingSystems         12330 non-null  int64  \n",
      " 12  Browser                  12330 non-null  int64  \n",
      " 13  Region                   12330 non-null  int64  \n",
      " 14  TrafficType              12330 non-null  int64  \n",
      " 15  VisitorType              12330 non-null  object \n",
      " 16  Weekend                  12330 non-null  bool   \n",
      " 17  Revenue                  12330 non-null  bool   \n",
      "dtypes: bool(2), float64(7), int64(7), object(2)\n",
      "memory usage: 1.5+ MB\n"
     ]
    }
   ],
   "source": [
    "shop.info()"
   ]
  },
  {
   "cell_type": "markdown",
   "id": "4743cd9c",
   "metadata": {},
   "source": [
    "### Correlation Matrix"
   ]
  },
  {
   "cell_type": "code",
   "execution_count": 96,
   "id": "c558a06a",
   "metadata": {},
   "outputs": [
    {
     "data": {
      "text/plain": [
       "<AxesSubplot:>"
      ]
     },
     "execution_count": 96,
     "metadata": {},
     "output_type": "execute_result"
    },
    {
     "data": {
      "image/png": "[encoded data removed]",
      "text/plain": [
       "<Figure size 864x864 with 2 Axes>"
      ]
     },
     "metadata": {
      "needs_background": "light"
     },
     "output_type": "display_data"
    }
   ],
   "source": [
    "plt.figure(figsize=(12,12))\n",
    "sns.heatmap(shop.corr(),annot=True,cmap='viridis',linewidths=.5)"
   ]
  },
  {
   "cell_type": "markdown",
   "id": "0435685f",
   "metadata": {},
   "source": [
    "## Data Preprocessing"
   ]
  },
  {
   "cell_type": "markdown",
   "id": "14c8a598",
   "metadata": {},
   "source": [
    "### Creating Dummy Variables\n",
    "\n",
    "#### 1. VisitorType  "
   ]
  },
  {
   "cell_type": "code",
   "execution_count": 97,
   "id": "05550c79",
   "metadata": {},
   "outputs": [],
   "source": [
    "visitor = pd.get_dummies(shop['VisitorType'],drop_first=True)"
   ]
  },
  {
   "cell_type": "code",
   "execution_count": 98,
   "id": "dd7f6341",
   "metadata": {},
   "outputs": [
    {
     "data": {
      "text/html": [
       "<div>\n",
       "<style scoped>\n",
       "    .dataframe tbody tr th:only-of-type {\n",
       "        vertical-align: middle;\n",
       "    }\n",
       "\n",
       "    .dataframe tbody tr th {\n",
       "        vertical-align: top;\n",
       "    }\n",
       "\n",
       "    .dataframe thead th {\n",
       "        text-align: right;\n",
       "    }\n",
       "</style>\n",
       "<table border=\"1\" class=\"dataframe\">\n",
       "  <thead>\n",
       "    <tr style=\"text-align: right;\">\n",
       "      <th></th>\n",
       "      <th>Other</th>\n",
       "      <th>Returning_Visitor</th>\n",
       "    </tr>\n",
       "  </thead>\n",
       "  <tbody>\n",
       "    <tr>\n",
       "      <th>0</th>\n",
       "      <td>0</td>\n",
       "      <td>1</td>\n",
       "    </tr>\n",
       "    <tr>\n",
       "      <th>1</th>\n",
       "      <td>0</td>\n",
       "      <td>1</td>\n",
       "    </tr>\n",
       "    <tr>\n",
       "      <th>2</th>\n",
       "      <td>0</td>\n",
       "      <td>1</td>\n",
       "    </tr>\n",
       "    <tr>\n",
       "      <th>3</th>\n",
       "      <td>0</td>\n",
       "      <td>1</td>\n",
       "    </tr>\n",
       "    <tr>\n",
       "      <th>4</th>\n",
       "      <td>0</td>\n",
       "      <td>1</td>\n",
       "    </tr>\n",
       "  </tbody>\n",
       "</table>\n",
       "</div>"
      ],
      "text/plain": [
       "   Other  Returning_Visitor\n",
       "0      0                  1\n",
       "1      0                  1\n",
       "2      0                  1\n",
       "3      0                  1\n",
       "4      0                  1"
      ]
     },
     "execution_count": 98,
     "metadata": {},
     "output_type": "execute_result"
    }
   ],
   "source": [
    "visitor.head()"
   ]
  },
  {
   "cell_type": "code",
   "execution_count": 99,
   "id": "3ea6fee7",
   "metadata": {},
   "outputs": [],
   "source": [
    "shop = pd.concat([shop,visitor],axis=1)"
   ]
  },
  {
   "cell_type": "code",
   "execution_count": 100,
   "id": "e3318056",
   "metadata": {},
   "outputs": [
    {
     "data": {
      "text/plain": [
       "Index(['Administrative', 'Administrative_Duration', 'Informational',\n",
       "       'Informational_Duration', 'ProductRelated', 'ProductRelated_Duration',\n",
       "       'BounceRates', 'ExitRates', 'PageValues', 'SpecialDay', 'Month',\n",
       "       'OperatingSystems', 'Browser', 'Region', 'TrafficType', 'VisitorType',\n",
       "       'Weekend', 'Revenue', 'Other', 'Returning_Visitor'],\n",
       "      dtype='object')"
      ]
     },
     "execution_count": 100,
     "metadata": {},
     "output_type": "execute_result"
    }
   ],
   "source": [
    "shop.columns"
   ]
  },
  {
   "cell_type": "markdown",
   "id": "1393e7f3",
   "metadata": {},
   "source": [
    "### Creating X and y"
   ]
  },
  {
   "cell_type": "code",
   "execution_count": 101,
   "id": "406f0bb7",
   "metadata": {},
   "outputs": [],
   "source": [
    "X = shop.drop(['Revenue', 'Month', 'VisitorType','Administrative','Informational','ProductRelated'], axis = 1)\n",
    "y = shop['Revenue']"
   ]
  },
  {
   "cell_type": "code",
   "execution_count": 102,
   "id": "cd292cb5",
   "metadata": {},
   "outputs": [
    {
     "data": {
      "text/plain": [
       "False    10422\n",
       "True      1908\n",
       "Name: Revenue, dtype: int64"
      ]
     },
     "execution_count": 102,
     "metadata": {},
     "output_type": "execute_result"
    }
   ],
   "source": [
    "y.value_counts()"
   ]
  },
  {
   "cell_type": "code",
   "execution_count": 103,
   "id": "1b2e2fcb",
   "metadata": {},
   "outputs": [
    {
     "data": {
      "text/plain": [
       "Index(['Administrative_Duration', 'Informational_Duration',\n",
       "       'ProductRelated_Duration', 'BounceRates', 'ExitRates', 'PageValues',\n",
       "       'SpecialDay', 'OperatingSystems', 'Browser', 'Region', 'TrafficType',\n",
       "       'Weekend', 'Other', 'Returning_Visitor'],\n",
       "      dtype='object')"
      ]
     },
     "execution_count": 103,
     "metadata": {},
     "output_type": "execute_result"
    }
   ],
   "source": [
    "X.columns"
   ]
  },
  {
   "cell_type": "code",
   "execution_count": 104,
   "id": "e98a34b8",
   "metadata": {},
   "outputs": [
    {
     "data": {
      "text/html": [
       "<div>\n",
       "<style scoped>\n",
       "    .dataframe tbody tr th:only-of-type {\n",
       "        vertical-align: middle;\n",
       "    }\n",
       "\n",
       "    .dataframe tbody tr th {\n",
       "        vertical-align: top;\n",
       "    }\n",
       "\n",
       "    .dataframe thead th {\n",
       "        text-align: right;\n",
       "    }\n",
       "</style>\n",
       "<table border=\"1\" class=\"dataframe\">\n",
       "  <thead>\n",
       "    <tr style=\"text-align: right;\">\n",
       "      <th></th>\n",
       "      <th>Administrative_Duration</th>\n",
       "      <th>Informational_Duration</th>\n",
       "      <th>ProductRelated_Duration</th>\n",
       "      <th>BounceRates</th>\n",
       "      <th>ExitRates</th>\n",
       "      <th>PageValues</th>\n",
       "      <th>SpecialDay</th>\n",
       "      <th>OperatingSystems</th>\n",
       "      <th>Browser</th>\n",
       "      <th>Region</th>\n",
       "      <th>TrafficType</th>\n",
       "      <th>Weekend</th>\n",
       "      <th>Other</th>\n",
       "      <th>Returning_Visitor</th>\n",
       "    </tr>\n",
       "  </thead>\n",
       "  <tbody>\n",
       "    <tr>\n",
       "      <th>0</th>\n",
       "      <td>0.0</td>\n",
       "      <td>0.0</td>\n",
       "      <td>0.000000</td>\n",
       "      <td>0.20</td>\n",
       "      <td>0.20</td>\n",
       "      <td>0.0</td>\n",
       "      <td>0.0</td>\n",
       "      <td>1</td>\n",
       "      <td>1</td>\n",
       "      <td>1</td>\n",
       "      <td>1</td>\n",
       "      <td>False</td>\n",
       "      <td>0</td>\n",
       "      <td>1</td>\n",
       "    </tr>\n",
       "    <tr>\n",
       "      <th>1</th>\n",
       "      <td>0.0</td>\n",
       "      <td>0.0</td>\n",
       "      <td>64.000000</td>\n",
       "      <td>0.00</td>\n",
       "      <td>0.10</td>\n",
       "      <td>0.0</td>\n",
       "      <td>0.0</td>\n",
       "      <td>2</td>\n",
       "      <td>2</td>\n",
       "      <td>1</td>\n",
       "      <td>2</td>\n",
       "      <td>False</td>\n",
       "      <td>0</td>\n",
       "      <td>1</td>\n",
       "    </tr>\n",
       "    <tr>\n",
       "      <th>2</th>\n",
       "      <td>0.0</td>\n",
       "      <td>0.0</td>\n",
       "      <td>0.000000</td>\n",
       "      <td>0.20</td>\n",
       "      <td>0.20</td>\n",
       "      <td>0.0</td>\n",
       "      <td>0.0</td>\n",
       "      <td>4</td>\n",
       "      <td>1</td>\n",
       "      <td>9</td>\n",
       "      <td>3</td>\n",
       "      <td>False</td>\n",
       "      <td>0</td>\n",
       "      <td>1</td>\n",
       "    </tr>\n",
       "    <tr>\n",
       "      <th>3</th>\n",
       "      <td>0.0</td>\n",
       "      <td>0.0</td>\n",
       "      <td>2.666667</td>\n",
       "      <td>0.05</td>\n",
       "      <td>0.14</td>\n",
       "      <td>0.0</td>\n",
       "      <td>0.0</td>\n",
       "      <td>3</td>\n",
       "      <td>2</td>\n",
       "      <td>2</td>\n",
       "      <td>4</td>\n",
       "      <td>False</td>\n",
       "      <td>0</td>\n",
       "      <td>1</td>\n",
       "    </tr>\n",
       "    <tr>\n",
       "      <th>4</th>\n",
       "      <td>0.0</td>\n",
       "      <td>0.0</td>\n",
       "      <td>627.500000</td>\n",
       "      <td>0.02</td>\n",
       "      <td>0.05</td>\n",
       "      <td>0.0</td>\n",
       "      <td>0.0</td>\n",
       "      <td>3</td>\n",
       "      <td>3</td>\n",
       "      <td>1</td>\n",
       "      <td>4</td>\n",
       "      <td>True</td>\n",
       "      <td>0</td>\n",
       "      <td>1</td>\n",
       "    </tr>\n",
       "  </tbody>\n",
       "</table>\n",
       "</div>"
      ],
      "text/plain": [
       "   Administrative_Duration  Informational_Duration  ProductRelated_Duration  \\\n",
       "0                      0.0                     0.0                 0.000000   \n",
       "1                      0.0                     0.0                64.000000   \n",
       "2                      0.0                     0.0                 0.000000   \n",
       "3                      0.0                     0.0                 2.666667   \n",
       "4                      0.0                     0.0               627.500000   \n",
       "\n",
       "   BounceRates  ExitRates  PageValues  SpecialDay  OperatingSystems  Browser  \\\n",
       "0         0.20       0.20         0.0         0.0                 1        1   \n",
       "1         0.00       0.10         0.0         0.0                 2        2   \n",
       "2         0.20       0.20         0.0         0.0                 4        1   \n",
       "3         0.05       0.14         0.0         0.0                 3        2   \n",
       "4         0.02       0.05         0.0         0.0                 3        3   \n",
       "\n",
       "   Region  TrafficType  Weekend  Other  Returning_Visitor  \n",
       "0       1            1    False      0                  1  \n",
       "1       1            2    False      0                  1  \n",
       "2       9            3    False      0                  1  \n",
       "3       2            4    False      0                  1  \n",
       "4       1            4     True      0                  1  "
      ]
     },
     "execution_count": 104,
     "metadata": {},
     "output_type": "execute_result"
    }
   ],
   "source": [
    "X.head()"
   ]
  },
  {
   "cell_type": "markdown",
   "id": "3be1a468",
   "metadata": {},
   "source": [
    "### Weekend Column and Target Column"
   ]
  },
  {
   "cell_type": "markdown",
   "id": "8bdfeab0",
   "metadata": {},
   "source": [
    "The code converts the boolean values to float type - actually it converts all the data into float type. This has been done so that the sequential model is able to build tensors out of them"
   ]
  },
  {
   "cell_type": "code",
   "execution_count": 105,
   "id": "75e6e686",
   "metadata": {},
   "outputs": [],
   "source": [
    "X['Weekend'] = np.asarray(X['Weekend']).astype(np.float32)\n",
    "\n",
    "y = np.asarray(y).astype(np.float32)"
   ]
  },
  {
   "cell_type": "code",
   "execution_count": 106,
   "id": "966a64a1",
   "metadata": {},
   "outputs": [
    {
     "data": {
      "text/html": [
       "<div>\n",
       "<style scoped>\n",
       "    .dataframe tbody tr th:only-of-type {\n",
       "        vertical-align: middle;\n",
       "    }\n",
       "\n",
       "    .dataframe tbody tr th {\n",
       "        vertical-align: top;\n",
       "    }\n",
       "\n",
       "    .dataframe thead th {\n",
       "        text-align: right;\n",
       "    }\n",
       "</style>\n",
       "<table border=\"1\" class=\"dataframe\">\n",
       "  <thead>\n",
       "    <tr style=\"text-align: right;\">\n",
       "      <th></th>\n",
       "      <th>Administrative_Duration</th>\n",
       "      <th>Informational_Duration</th>\n",
       "      <th>ProductRelated_Duration</th>\n",
       "      <th>BounceRates</th>\n",
       "      <th>ExitRates</th>\n",
       "      <th>PageValues</th>\n",
       "      <th>SpecialDay</th>\n",
       "      <th>OperatingSystems</th>\n",
       "      <th>Browser</th>\n",
       "      <th>Region</th>\n",
       "      <th>TrafficType</th>\n",
       "      <th>Weekend</th>\n",
       "      <th>Other</th>\n",
       "      <th>Returning_Visitor</th>\n",
       "    </tr>\n",
       "  </thead>\n",
       "  <tbody>\n",
       "    <tr>\n",
       "      <th>0</th>\n",
       "      <td>0.0</td>\n",
       "      <td>0.0</td>\n",
       "      <td>0.000000</td>\n",
       "      <td>0.20</td>\n",
       "      <td>0.20</td>\n",
       "      <td>0.0</td>\n",
       "      <td>0.0</td>\n",
       "      <td>1</td>\n",
       "      <td>1</td>\n",
       "      <td>1</td>\n",
       "      <td>1</td>\n",
       "      <td>0.0</td>\n",
       "      <td>0</td>\n",
       "      <td>1</td>\n",
       "    </tr>\n",
       "    <tr>\n",
       "      <th>1</th>\n",
       "      <td>0.0</td>\n",
       "      <td>0.0</td>\n",
       "      <td>64.000000</td>\n",
       "      <td>0.00</td>\n",
       "      <td>0.10</td>\n",
       "      <td>0.0</td>\n",
       "      <td>0.0</td>\n",
       "      <td>2</td>\n",
       "      <td>2</td>\n",
       "      <td>1</td>\n",
       "      <td>2</td>\n",
       "      <td>0.0</td>\n",
       "      <td>0</td>\n",
       "      <td>1</td>\n",
       "    </tr>\n",
       "    <tr>\n",
       "      <th>2</th>\n",
       "      <td>0.0</td>\n",
       "      <td>0.0</td>\n",
       "      <td>0.000000</td>\n",
       "      <td>0.20</td>\n",
       "      <td>0.20</td>\n",
       "      <td>0.0</td>\n",
       "      <td>0.0</td>\n",
       "      <td>4</td>\n",
       "      <td>1</td>\n",
       "      <td>9</td>\n",
       "      <td>3</td>\n",
       "      <td>0.0</td>\n",
       "      <td>0</td>\n",
       "      <td>1</td>\n",
       "    </tr>\n",
       "    <tr>\n",
       "      <th>3</th>\n",
       "      <td>0.0</td>\n",
       "      <td>0.0</td>\n",
       "      <td>2.666667</td>\n",
       "      <td>0.05</td>\n",
       "      <td>0.14</td>\n",
       "      <td>0.0</td>\n",
       "      <td>0.0</td>\n",
       "      <td>3</td>\n",
       "      <td>2</td>\n",
       "      <td>2</td>\n",
       "      <td>4</td>\n",
       "      <td>0.0</td>\n",
       "      <td>0</td>\n",
       "      <td>1</td>\n",
       "    </tr>\n",
       "    <tr>\n",
       "      <th>4</th>\n",
       "      <td>0.0</td>\n",
       "      <td>0.0</td>\n",
       "      <td>627.500000</td>\n",
       "      <td>0.02</td>\n",
       "      <td>0.05</td>\n",
       "      <td>0.0</td>\n",
       "      <td>0.0</td>\n",
       "      <td>3</td>\n",
       "      <td>3</td>\n",
       "      <td>1</td>\n",
       "      <td>4</td>\n",
       "      <td>1.0</td>\n",
       "      <td>0</td>\n",
       "      <td>1</td>\n",
       "    </tr>\n",
       "  </tbody>\n",
       "</table>\n",
       "</div>"
      ],
      "text/plain": [
       "   Administrative_Duration  Informational_Duration  ProductRelated_Duration  \\\n",
       "0                      0.0                     0.0                 0.000000   \n",
       "1                      0.0                     0.0                64.000000   \n",
       "2                      0.0                     0.0                 0.000000   \n",
       "3                      0.0                     0.0                 2.666667   \n",
       "4                      0.0                     0.0               627.500000   \n",
       "\n",
       "   BounceRates  ExitRates  PageValues  SpecialDay  OperatingSystems  Browser  \\\n",
       "0         0.20       0.20         0.0         0.0                 1        1   \n",
       "1         0.00       0.10         0.0         0.0                 2        2   \n",
       "2         0.20       0.20         0.0         0.0                 4        1   \n",
       "3         0.05       0.14         0.0         0.0                 3        2   \n",
       "4         0.02       0.05         0.0         0.0                 3        3   \n",
       "\n",
       "   Region  TrafficType  Weekend  Other  Returning_Visitor  \n",
       "0       1            1      0.0      0                  1  \n",
       "1       1            2      0.0      0                  1  \n",
       "2       9            3      0.0      0                  1  \n",
       "3       2            4      0.0      0                  1  \n",
       "4       1            4      1.0      0                  1  "
      ]
     },
     "execution_count": 106,
     "metadata": {},
     "output_type": "execute_result"
    }
   ],
   "source": [
    "X.head()"
   ]
  },
  {
   "cell_type": "code",
   "execution_count": 107,
   "id": "671d2f29",
   "metadata": {},
   "outputs": [
    {
     "data": {
      "text/plain": [
       "array([0., 0., 0., ..., 0., 0., 0.], dtype=float32)"
      ]
     },
     "execution_count": 107,
     "metadata": {},
     "output_type": "execute_result"
    }
   ],
   "source": [
    "y"
   ]
  },
  {
   "cell_type": "markdown",
   "id": "b99d4082",
   "metadata": {},
   "source": [
    "#### Shape of Dataframe"
   ]
  },
  {
   "cell_type": "code",
   "execution_count": 108,
   "id": "3472ec47",
   "metadata": {},
   "outputs": [
    {
     "data": {
      "text/plain": [
       "(12330, 14)"
      ]
     },
     "execution_count": 108,
     "metadata": {},
     "output_type": "execute_result"
    }
   ],
   "source": [
    "X.shape"
   ]
  },
  {
   "cell_type": "code",
   "execution_count": 109,
   "id": "b8117868",
   "metadata": {},
   "outputs": [
    {
     "data": {
      "text/plain": [
       "(12330,)"
      ]
     },
     "execution_count": 109,
     "metadata": {},
     "output_type": "execute_result"
    }
   ],
   "source": [
    "y.shape"
   ]
  },
  {
   "cell_type": "markdown",
   "id": "641d985b",
   "metadata": {},
   "source": [
    "## Model Building"
   ]
  },
  {
   "cell_type": "markdown",
   "id": "4e741010",
   "metadata": {},
   "source": [
    "### Train Test Split"
   ]
  },
  {
   "cell_type": "code",
   "execution_count": 110,
   "id": "cf51f10e",
   "metadata": {},
   "outputs": [],
   "source": [
    "from sklearn.model_selection import train_test_split"
   ]
  },
  {
   "cell_type": "code",
   "execution_count": 111,
   "id": "ad3ee582",
   "metadata": {},
   "outputs": [],
   "source": [
    "X_train,X_test,y_train,y_test = train_test_split(X,y,test_size=0.2,random_state=42)"
   ]
  },
  {
   "cell_type": "code",
   "execution_count": 112,
   "id": "e13c6005",
   "metadata": {},
   "outputs": [],
   "source": [
    "columns_to_scaled = ['Administrative_Duration', 'Informational_Duration',\n",
    "                     'ProductRelated_Duration', 'BounceRates', 'ExitRates',\n",
    "                     'PageValues']"
   ]
  },
  {
   "cell_type": "code",
   "execution_count": 113,
   "id": "d3a27aae",
   "metadata": {},
   "outputs": [
    {
     "data": {
      "text/html": [
       "<div>\n",
       "<style scoped>\n",
       "    .dataframe tbody tr th:only-of-type {\n",
       "        vertical-align: middle;\n",
       "    }\n",
       "\n",
       "    .dataframe tbody tr th {\n",
       "        vertical-align: top;\n",
       "    }\n",
       "\n",
       "    .dataframe thead th {\n",
       "        text-align: right;\n",
       "    }\n",
       "</style>\n",
       "<table border=\"1\" class=\"dataframe\">\n",
       "  <thead>\n",
       "    <tr style=\"text-align: right;\">\n",
       "      <th></th>\n",
       "      <th>Administrative_Duration</th>\n",
       "      <th>Informational_Duration</th>\n",
       "      <th>ProductRelated_Duration</th>\n",
       "      <th>BounceRates</th>\n",
       "      <th>ExitRates</th>\n",
       "      <th>PageValues</th>\n",
       "      <th>SpecialDay</th>\n",
       "      <th>OperatingSystems</th>\n",
       "      <th>Browser</th>\n",
       "      <th>Region</th>\n",
       "      <th>TrafficType</th>\n",
       "      <th>Weekend</th>\n",
       "      <th>Other</th>\n",
       "      <th>Returning_Visitor</th>\n",
       "    </tr>\n",
       "  </thead>\n",
       "  <tbody>\n",
       "    <tr>\n",
       "      <th>1785</th>\n",
       "      <td>0.0</td>\n",
       "      <td>0.0</td>\n",
       "      <td>95.000000</td>\n",
       "      <td>0.014286</td>\n",
       "      <td>0.061905</td>\n",
       "      <td>0.000000</td>\n",
       "      <td>0.0</td>\n",
       "      <td>2</td>\n",
       "      <td>6</td>\n",
       "      <td>1</td>\n",
       "      <td>1</td>\n",
       "      <td>0.0</td>\n",
       "      <td>0</td>\n",
       "      <td>1</td>\n",
       "    </tr>\n",
       "    <tr>\n",
       "      <th>10407</th>\n",
       "      <td>14.0</td>\n",
       "      <td>0.0</td>\n",
       "      <td>1441.910588</td>\n",
       "      <td>0.002469</td>\n",
       "      <td>0.013933</td>\n",
       "      <td>2.769599</td>\n",
       "      <td>0.0</td>\n",
       "      <td>2</td>\n",
       "      <td>2</td>\n",
       "      <td>3</td>\n",
       "      <td>2</td>\n",
       "      <td>0.0</td>\n",
       "      <td>0</td>\n",
       "      <td>1</td>\n",
       "    </tr>\n",
       "    <tr>\n",
       "      <th>286</th>\n",
       "      <td>0.0</td>\n",
       "      <td>0.0</td>\n",
       "      <td>0.000000</td>\n",
       "      <td>0.200000</td>\n",
       "      <td>0.200000</td>\n",
       "      <td>0.000000</td>\n",
       "      <td>0.0</td>\n",
       "      <td>2</td>\n",
       "      <td>2</td>\n",
       "      <td>1</td>\n",
       "      <td>1</td>\n",
       "      <td>0.0</td>\n",
       "      <td>0</td>\n",
       "      <td>1</td>\n",
       "    </tr>\n",
       "    <tr>\n",
       "      <th>6520</th>\n",
       "      <td>49.2</td>\n",
       "      <td>379.0</td>\n",
       "      <td>74.600000</td>\n",
       "      <td>0.000000</td>\n",
       "      <td>0.018182</td>\n",
       "      <td>8.326728</td>\n",
       "      <td>0.0</td>\n",
       "      <td>2</td>\n",
       "      <td>2</td>\n",
       "      <td>8</td>\n",
       "      <td>2</td>\n",
       "      <td>0.0</td>\n",
       "      <td>0</td>\n",
       "      <td>0</td>\n",
       "    </tr>\n",
       "    <tr>\n",
       "      <th>12251</th>\n",
       "      <td>0.0</td>\n",
       "      <td>5.0</td>\n",
       "      <td>279.000000</td>\n",
       "      <td>0.040000</td>\n",
       "      <td>0.041667</td>\n",
       "      <td>0.000000</td>\n",
       "      <td>0.0</td>\n",
       "      <td>3</td>\n",
       "      <td>2</td>\n",
       "      <td>7</td>\n",
       "      <td>8</td>\n",
       "      <td>1.0</td>\n",
       "      <td>0</td>\n",
       "      <td>0</td>\n",
       "    </tr>\n",
       "  </tbody>\n",
       "</table>\n",
       "</div>"
      ],
      "text/plain": [
       "       Administrative_Duration  Informational_Duration  \\\n",
       "1785                       0.0                     0.0   \n",
       "10407                     14.0                     0.0   \n",
       "286                        0.0                     0.0   \n",
       "6520                      49.2                   379.0   \n",
       "12251                      0.0                     5.0   \n",
       "\n",
       "       ProductRelated_Duration  BounceRates  ExitRates  PageValues  \\\n",
       "1785                 95.000000     0.014286   0.061905    0.000000   \n",
       "10407              1441.910588     0.002469   0.013933    2.769599   \n",
       "286                   0.000000     0.200000   0.200000    0.000000   \n",
       "6520                 74.600000     0.000000   0.018182    8.326728   \n",
       "12251               279.000000     0.040000   0.041667    0.000000   \n",
       "\n",
       "       SpecialDay  OperatingSystems  Browser  Region  TrafficType  Weekend  \\\n",
       "1785          0.0                 2        6       1            1      0.0   \n",
       "10407         0.0                 2        2       3            2      0.0   \n",
       "286           0.0                 2        2       1            1      0.0   \n",
       "6520          0.0                 2        2       8            2      0.0   \n",
       "12251         0.0                 3        2       7            8      1.0   \n",
       "\n",
       "       Other  Returning_Visitor  \n",
       "1785       0                  1  \n",
       "10407      0                  1  \n",
       "286        0                  1  \n",
       "6520       0                  0  \n",
       "12251      0                  0  "
      ]
     },
     "execution_count": 113,
     "metadata": {},
     "output_type": "execute_result"
    }
   ],
   "source": [
    "X_train.head()"
   ]
  },
  {
   "cell_type": "markdown",
   "id": "52316297",
   "metadata": {},
   "source": [
    "### Standard Scaler"
   ]
  },
  {
   "cell_type": "code",
   "execution_count": 114,
   "id": "22e2fc36",
   "metadata": {},
   "outputs": [],
   "source": [
    "from sklearn.preprocessing import StandardScaler\n",
    "\n",
    "scaler = StandardScaler()\n",
    "\n",
    "X_scaled_train = scaler.fit_transform(X_train[columns_to_scaled])\n",
    "\n",
    "X_scaled_test = scaler.transform(X_test[columns_to_scaled])"
   ]
  },
  {
   "cell_type": "markdown",
   "id": "7f03d0c6",
   "metadata": {},
   "source": [
    "#### Train Data (scaled)"
   ]
  },
  {
   "cell_type": "code",
   "execution_count": 115,
   "id": "bf08a61d",
   "metadata": {},
   "outputs": [
    {
     "data": {
      "text/plain": [
       "array([[-0.45693682, -0.24516779, -0.57331315, -0.15533646,  0.40328167,\n",
       "        -0.31559324],\n",
       "       [-0.3780645 , -0.24516779,  0.12720379, -0.40428397, -0.59955507,\n",
       "        -0.16574433],\n",
       "       [-0.45693682, -0.24516779, -0.62272186,  3.75722679,  3.29012419,\n",
       "        -0.31559324],\n",
       "       ...,\n",
       "       [-0.45693682, -0.24516779, -0.52442454, -0.45630286,  0.50282796,\n",
       "        -0.31559324],\n",
       "       [-0.45693682, -0.24516779, -0.46409391, -0.45630286, -0.54240812,\n",
       "        -0.31559324],\n",
       "       [ 0.32136402, -0.24516779, -0.50189937, -0.45630286, -0.29047942,\n",
       "        -0.31559324]])"
      ]
     },
     "execution_count": 115,
     "metadata": {},
     "output_type": "execute_result"
    }
   ],
   "source": [
    "X_scaled_train"
   ]
  },
  {
   "cell_type": "code",
   "execution_count": 116,
   "id": "4a976956",
   "metadata": {},
   "outputs": [
    {
     "name": "stderr",
     "output_type": "stream",
     "text": [
      "<ipython-input-116-deca72a72b4a>:2: SettingWithCopyWarning: \n",
      "A value is trying to be set on a copy of a slice from a DataFrame.\n",
      "Try using .loc[row_indexer,col_indexer] = value instead\n",
      "\n",
      "See the caveats in the documentation: https://pandas.pydata.org/pandas-docs/stable/user_guide/indexing.html#returning-a-view-versus-a-copy\n",
      "  X_train[columns_to_scaled] = X_scaled_train\n",
      "C:\\Users\\pulkit\\Anaconda3\\lib\\site-packages\\pandas\\core\\indexing.py:1738: SettingWithCopyWarning: \n",
      "A value is trying to be set on a copy of a slice from a DataFrame.\n",
      "Try using .loc[row_indexer,col_indexer] = value instead\n",
      "\n",
      "See the caveats in the documentation: https://pandas.pydata.org/pandas-docs/stable/user_guide/indexing.html#returning-a-view-versus-a-copy\n",
      "  self._setitem_single_column(loc, value[:, i].tolist(), pi)\n"
     ]
    }
   ],
   "source": [
    "#Replacing values in original dataframe\n",
    "X_train[columns_to_scaled] = X_scaled_train"
   ]
  },
  {
   "cell_type": "code",
   "execution_count": 117,
   "id": "a858dd3e",
   "metadata": {},
   "outputs": [
    {
     "data": {
      "text/html": [
       "<div>\n",
       "<style scoped>\n",
       "    .dataframe tbody tr th:only-of-type {\n",
       "        vertical-align: middle;\n",
       "    }\n",
       "\n",
       "    .dataframe tbody tr th {\n",
       "        vertical-align: top;\n",
       "    }\n",
       "\n",
       "    .dataframe thead th {\n",
       "        text-align: right;\n",
       "    }\n",
       "</style>\n",
       "<table border=\"1\" class=\"dataframe\">\n",
       "  <thead>\n",
       "    <tr style=\"text-align: right;\">\n",
       "      <th></th>\n",
       "      <th>Administrative_Duration</th>\n",
       "      <th>Informational_Duration</th>\n",
       "      <th>ProductRelated_Duration</th>\n",
       "      <th>BounceRates</th>\n",
       "      <th>ExitRates</th>\n",
       "      <th>PageValues</th>\n",
       "      <th>SpecialDay</th>\n",
       "      <th>OperatingSystems</th>\n",
       "      <th>Browser</th>\n",
       "      <th>Region</th>\n",
       "      <th>TrafficType</th>\n",
       "      <th>Weekend</th>\n",
       "      <th>Other</th>\n",
       "      <th>Returning_Visitor</th>\n",
       "    </tr>\n",
       "  </thead>\n",
       "  <tbody>\n",
       "    <tr>\n",
       "      <th>1785</th>\n",
       "      <td>-0.456937</td>\n",
       "      <td>-0.245168</td>\n",
       "      <td>-0.573313</td>\n",
       "      <td>-0.155336</td>\n",
       "      <td>0.403282</td>\n",
       "      <td>-0.315593</td>\n",
       "      <td>0.0</td>\n",
       "      <td>2</td>\n",
       "      <td>6</td>\n",
       "      <td>1</td>\n",
       "      <td>1</td>\n",
       "      <td>0.0</td>\n",
       "      <td>0</td>\n",
       "      <td>1</td>\n",
       "    </tr>\n",
       "    <tr>\n",
       "      <th>10407</th>\n",
       "      <td>-0.378064</td>\n",
       "      <td>-0.245168</td>\n",
       "      <td>0.127204</td>\n",
       "      <td>-0.404284</td>\n",
       "      <td>-0.599555</td>\n",
       "      <td>-0.165744</td>\n",
       "      <td>0.0</td>\n",
       "      <td>2</td>\n",
       "      <td>2</td>\n",
       "      <td>3</td>\n",
       "      <td>2</td>\n",
       "      <td>0.0</td>\n",
       "      <td>0</td>\n",
       "      <td>1</td>\n",
       "    </tr>\n",
       "    <tr>\n",
       "      <th>286</th>\n",
       "      <td>-0.456937</td>\n",
       "      <td>-0.245168</td>\n",
       "      <td>-0.622722</td>\n",
       "      <td>3.757227</td>\n",
       "      <td>3.290124</td>\n",
       "      <td>-0.315593</td>\n",
       "      <td>0.0</td>\n",
       "      <td>2</td>\n",
       "      <td>2</td>\n",
       "      <td>1</td>\n",
       "      <td>1</td>\n",
       "      <td>0.0</td>\n",
       "      <td>0</td>\n",
       "      <td>1</td>\n",
       "    </tr>\n",
       "    <tr>\n",
       "      <th>6520</th>\n",
       "      <td>-0.179757</td>\n",
       "      <td>2.482745</td>\n",
       "      <td>-0.583923</td>\n",
       "      <td>-0.456303</td>\n",
       "      <td>-0.510734</td>\n",
       "      <td>0.134924</td>\n",
       "      <td>0.0</td>\n",
       "      <td>2</td>\n",
       "      <td>2</td>\n",
       "      <td>8</td>\n",
       "      <td>2</td>\n",
       "      <td>0.0</td>\n",
       "      <td>0</td>\n",
       "      <td>0</td>\n",
       "    </tr>\n",
       "    <tr>\n",
       "      <th>12251</th>\n",
       "      <td>-0.456937</td>\n",
       "      <td>-0.209179</td>\n",
       "      <td>-0.477616</td>\n",
       "      <td>0.386403</td>\n",
       "      <td>-0.019790</td>\n",
       "      <td>-0.315593</td>\n",
       "      <td>0.0</td>\n",
       "      <td>3</td>\n",
       "      <td>2</td>\n",
       "      <td>7</td>\n",
       "      <td>8</td>\n",
       "      <td>1.0</td>\n",
       "      <td>0</td>\n",
       "      <td>0</td>\n",
       "    </tr>\n",
       "  </tbody>\n",
       "</table>\n",
       "</div>"
      ],
      "text/plain": [
       "       Administrative_Duration  Informational_Duration  \\\n",
       "1785                 -0.456937               -0.245168   \n",
       "10407                -0.378064               -0.245168   \n",
       "286                  -0.456937               -0.245168   \n",
       "6520                 -0.179757                2.482745   \n",
       "12251                -0.456937               -0.209179   \n",
       "\n",
       "       ProductRelated_Duration  BounceRates  ExitRates  PageValues  \\\n",
       "1785                 -0.573313    -0.155336   0.403282   -0.315593   \n",
       "10407                 0.127204    -0.404284  -0.599555   -0.165744   \n",
       "286                  -0.622722     3.757227   3.290124   -0.315593   \n",
       "6520                 -0.583923    -0.456303  -0.510734    0.134924   \n",
       "12251                -0.477616     0.386403  -0.019790   -0.315593   \n",
       "\n",
       "       SpecialDay  OperatingSystems  Browser  Region  TrafficType  Weekend  \\\n",
       "1785          0.0                 2        6       1            1      0.0   \n",
       "10407         0.0                 2        2       3            2      0.0   \n",
       "286           0.0                 2        2       1            1      0.0   \n",
       "6520          0.0                 2        2       8            2      0.0   \n",
       "12251         0.0                 3        2       7            8      1.0   \n",
       "\n",
       "       Other  Returning_Visitor  \n",
       "1785       0                  1  \n",
       "10407      0                  1  \n",
       "286        0                  1  \n",
       "6520       0                  0  \n",
       "12251      0                  0  "
      ]
     },
     "execution_count": 117,
     "metadata": {},
     "output_type": "execute_result"
    }
   ],
   "source": [
    "X_train.head()"
   ]
  },
  {
   "cell_type": "markdown",
   "id": "526688c8",
   "metadata": {},
   "source": [
    "#### Test Data (scaled)"
   ]
  },
  {
   "cell_type": "code",
   "execution_count": 118,
   "id": "88e9f556",
   "metadata": {},
   "outputs": [
    {
     "data": {
      "text/plain": [
       "array([[ 0.34587078, -0.24516779, -0.07545233, -0.36470439, -0.61814988,\n",
       "        -0.31559324],\n",
       "       [ 2.007211  ,  1.45024069,  0.67952613, -0.41000034, -0.7880497 ,\n",
       "        -0.20271856],\n",
       "       [-0.22524937, -0.24516779,  1.61887555, -0.44181188, -0.62276219,\n",
       "        -0.12887328],\n",
       "       ...,\n",
       "       [-0.45693682, -0.07962164,  1.54475387, -0.25372931, -0.37155222,\n",
       "        -0.31559324],\n",
       "       [-0.15834873, -0.17679003,  3.64498787,  0.04026941, -0.06165699,\n",
       "        -0.25170959],\n",
       "       [-0.45693682, -0.24516779, -0.56161109,  0.59707955,  0.15441593,\n",
       "        -0.31559324]])"
      ]
     },
     "execution_count": 118,
     "metadata": {},
     "output_type": "execute_result"
    }
   ],
   "source": [
    "X_scaled_test"
   ]
  },
  {
   "cell_type": "code",
   "execution_count": 119,
   "id": "7852bb3d",
   "metadata": {},
   "outputs": [
    {
     "name": "stderr",
     "output_type": "stream",
     "text": [
      "<ipython-input-119-e5c720df35eb>:2: SettingWithCopyWarning: \n",
      "A value is trying to be set on a copy of a slice from a DataFrame.\n",
      "Try using .loc[row_indexer,col_indexer] = value instead\n",
      "\n",
      "See the caveats in the documentation: https://pandas.pydata.org/pandas-docs/stable/user_guide/indexing.html#returning-a-view-versus-a-copy\n",
      "  X_test[columns_to_scaled] = X_scaled_test\n",
      "C:\\Users\\pulkit\\Anaconda3\\lib\\site-packages\\pandas\\core\\indexing.py:1738: SettingWithCopyWarning: \n",
      "A value is trying to be set on a copy of a slice from a DataFrame.\n",
      "Try using .loc[row_indexer,col_indexer] = value instead\n",
      "\n",
      "See the caveats in the documentation: https://pandas.pydata.org/pandas-docs/stable/user_guide/indexing.html#returning-a-view-versus-a-copy\n",
      "  self._setitem_single_column(loc, value[:, i].tolist(), pi)\n"
     ]
    }
   ],
   "source": [
    "#Replacing values in original dataframe\n",
    "X_test[columns_to_scaled] = X_scaled_test"
   ]
  },
  {
   "cell_type": "code",
   "execution_count": 120,
   "id": "a3fbcd12",
   "metadata": {},
   "outputs": [
    {
     "data": {
      "text/html": [
       "<div>\n",
       "<style scoped>\n",
       "    .dataframe tbody tr th:only-of-type {\n",
       "        vertical-align: middle;\n",
       "    }\n",
       "\n",
       "    .dataframe tbody tr th {\n",
       "        vertical-align: top;\n",
       "    }\n",
       "\n",
       "    .dataframe thead th {\n",
       "        text-align: right;\n",
       "    }\n",
       "</style>\n",
       "<table border=\"1\" class=\"dataframe\">\n",
       "  <thead>\n",
       "    <tr style=\"text-align: right;\">\n",
       "      <th></th>\n",
       "      <th>Administrative_Duration</th>\n",
       "      <th>Informational_Duration</th>\n",
       "      <th>ProductRelated_Duration</th>\n",
       "      <th>BounceRates</th>\n",
       "      <th>ExitRates</th>\n",
       "      <th>PageValues</th>\n",
       "      <th>SpecialDay</th>\n",
       "      <th>OperatingSystems</th>\n",
       "      <th>Browser</th>\n",
       "      <th>Region</th>\n",
       "      <th>TrafficType</th>\n",
       "      <th>Weekend</th>\n",
       "      <th>Other</th>\n",
       "      <th>Returning_Visitor</th>\n",
       "    </tr>\n",
       "  </thead>\n",
       "  <tbody>\n",
       "    <tr>\n",
       "      <th>8916</th>\n",
       "      <td>0.345871</td>\n",
       "      <td>-0.245168</td>\n",
       "      <td>-0.075452</td>\n",
       "      <td>-0.364704</td>\n",
       "      <td>-0.618150</td>\n",
       "      <td>-0.315593</td>\n",
       "      <td>0.0</td>\n",
       "      <td>1</td>\n",
       "      <td>8</td>\n",
       "      <td>6</td>\n",
       "      <td>11</td>\n",
       "      <td>0.0</td>\n",
       "      <td>0</td>\n",
       "      <td>1</td>\n",
       "    </tr>\n",
       "    <tr>\n",
       "      <th>772</th>\n",
       "      <td>2.007211</td>\n",
       "      <td>1.450241</td>\n",
       "      <td>0.679526</td>\n",
       "      <td>-0.410000</td>\n",
       "      <td>-0.788050</td>\n",
       "      <td>-0.202719</td>\n",
       "      <td>0.0</td>\n",
       "      <td>2</td>\n",
       "      <td>2</td>\n",
       "      <td>3</td>\n",
       "      <td>2</td>\n",
       "      <td>0.0</td>\n",
       "      <td>0</td>\n",
       "      <td>1</td>\n",
       "    </tr>\n",
       "    <tr>\n",
       "      <th>12250</th>\n",
       "      <td>-0.225249</td>\n",
       "      <td>-0.245168</td>\n",
       "      <td>1.618876</td>\n",
       "      <td>-0.441812</td>\n",
       "      <td>-0.622762</td>\n",
       "      <td>-0.128873</td>\n",
       "      <td>0.0</td>\n",
       "      <td>2</td>\n",
       "      <td>2</td>\n",
       "      <td>2</td>\n",
       "      <td>2</td>\n",
       "      <td>0.0</td>\n",
       "      <td>0</td>\n",
       "      <td>1</td>\n",
       "    </tr>\n",
       "    <tr>\n",
       "      <th>7793</th>\n",
       "      <td>0.337420</td>\n",
       "      <td>-0.245168</td>\n",
       "      <td>-0.307200</td>\n",
       "      <td>-0.280739</td>\n",
       "      <td>-0.339168</td>\n",
       "      <td>1.668558</td>\n",
       "      <td>0.0</td>\n",
       "      <td>2</td>\n",
       "      <td>5</td>\n",
       "      <td>7</td>\n",
       "      <td>4</td>\n",
       "      <td>0.0</td>\n",
       "      <td>0</td>\n",
       "      <td>1</td>\n",
       "    </tr>\n",
       "    <tr>\n",
       "      <th>6601</th>\n",
       "      <td>2.969164</td>\n",
       "      <td>5.036474</td>\n",
       "      <td>1.950899</td>\n",
       "      <td>-0.316587</td>\n",
       "      <td>-0.608031</td>\n",
       "      <td>0.233606</td>\n",
       "      <td>0.0</td>\n",
       "      <td>2</td>\n",
       "      <td>2</td>\n",
       "      <td>3</td>\n",
       "      <td>1</td>\n",
       "      <td>1.0</td>\n",
       "      <td>0</td>\n",
       "      <td>1</td>\n",
       "    </tr>\n",
       "  </tbody>\n",
       "</table>\n",
       "</div>"
      ],
      "text/plain": [
       "       Administrative_Duration  Informational_Duration  \\\n",
       "8916                  0.345871               -0.245168   \n",
       "772                   2.007211                1.450241   \n",
       "12250                -0.225249               -0.245168   \n",
       "7793                  0.337420               -0.245168   \n",
       "6601                  2.969164                5.036474   \n",
       "\n",
       "       ProductRelated_Duration  BounceRates  ExitRates  PageValues  \\\n",
       "8916                 -0.075452    -0.364704  -0.618150   -0.315593   \n",
       "772                   0.679526    -0.410000  -0.788050   -0.202719   \n",
       "12250                 1.618876    -0.441812  -0.622762   -0.128873   \n",
       "7793                 -0.307200    -0.280739  -0.339168    1.668558   \n",
       "6601                  1.950899    -0.316587  -0.608031    0.233606   \n",
       "\n",
       "       SpecialDay  OperatingSystems  Browser  Region  TrafficType  Weekend  \\\n",
       "8916          0.0                 1        8       6           11      0.0   \n",
       "772           0.0                 2        2       3            2      0.0   \n",
       "12250         0.0                 2        2       2            2      0.0   \n",
       "7793          0.0                 2        5       7            4      0.0   \n",
       "6601          0.0                 2        2       3            1      1.0   \n",
       "\n",
       "       Other  Returning_Visitor  \n",
       "8916       0                  1  \n",
       "772        0                  1  \n",
       "12250      0                  1  \n",
       "7793       0                  1  \n",
       "6601       0                  1  "
      ]
     },
     "execution_count": 120,
     "metadata": {},
     "output_type": "execute_result"
    }
   ],
   "source": [
    "X_test.head()"
   ]
  },
  {
   "cell_type": "code",
   "execution_count": 121,
   "id": "3731de5f",
   "metadata": {},
   "outputs": [
    {
     "data": {
      "text/plain": [
       "((9864, 14), (9864,))"
      ]
     },
     "execution_count": 121,
     "metadata": {},
     "output_type": "execute_result"
    }
   ],
   "source": [
    "X_train.shape,y_train.shape"
   ]
  },
  {
   "cell_type": "code",
   "execution_count": 122,
   "id": "436ef75f",
   "metadata": {},
   "outputs": [
    {
     "data": {
      "text/plain": [
       "((2466, 14), (2466,))"
      ]
     },
     "execution_count": 122,
     "metadata": {},
     "output_type": "execute_result"
    }
   ],
   "source": [
    "X_test.shape,y_test.shape"
   ]
  },
  {
   "cell_type": "markdown",
   "id": "b0b8b4b2",
   "metadata": {},
   "source": [
    "### Building ANN"
   ]
  },
  {
   "cell_type": "code",
   "execution_count": 123,
   "id": "bcaa7a26",
   "metadata": {},
   "outputs": [],
   "source": [
    "#Importing models and Layers \n",
    "\n",
    "from tensorflow.keras.models import Sequential\n",
    "\n",
    "from tensorflow.keras.layers import Dense,Dropout"
   ]
  },
  {
   "cell_type": "code",
   "execution_count": 124,
   "id": "c1aad0cd",
   "metadata": {},
   "outputs": [],
   "source": [
    "#Initialising the ANN\n",
    "model = Sequential()\n",
    "\n",
    "#Adding the input layer and the first hidden layer\n",
    "\n",
    "#input_dim is the total features to predict the label\n",
    "#units are the neurons in the first hidden layer\n",
    "# kernel_initializer is a fancy term for which statistical distribution or function to use for initialising the weights. (0 to 1)\n",
    "#In case of statistical distribution, the library will generate numbers from that statistical distribution and use as starting weights.\n",
    "model.add(Dense(activation = 'relu', input_dim=14 , units = 18, kernel_initializer = 'uniform'))\n",
    "\n",
    "#Adding second hidden layer\n",
    "model.add(Dense(activation = 'relu', units=32 , kernel_initializer='uniform'))\n",
    "\n",
    "#Adding second hidden layer\n",
    "model.add(Dense(activation = 'relu', units=16 , kernel_initializer='uniform'))\n",
    "\n",
    "#Adding the output layer\n",
    "model.add(Dense(activation='sigmoid', units=1, kernel_initializer='uniform'))\n",
    "\n",
    "#Compiling the ANN\n",
    "#(binary_crossentropy used when just binary label is there to predict)(just one output)\n",
    "model.compile(optimizer = 'adam', loss = 'binary_crossentropy' , metrics = ['accuracy'])"
   ]
  },
  {
   "cell_type": "code",
   "execution_count": 125,
   "id": "7a2662c4",
   "metadata": {},
   "outputs": [
    {
     "name": "stdout",
     "output_type": "stream",
     "text": [
      "Model: \"sequential_2\"\n",
      "_________________________________________________________________\n",
      "Layer (type)                 Output Shape              Param #   \n",
      "=================================================================\n",
      "dense_8 (Dense)              (None, 18)                270       \n",
      "_________________________________________________________________\n",
      "dense_9 (Dense)              (None, 32)                608       \n",
      "_________________________________________________________________\n",
      "dense_10 (Dense)             (None, 16)                528       \n",
      "_________________________________________________________________\n",
      "dense_11 (Dense)             (None, 1)                 17        \n",
      "=================================================================\n",
      "Total params: 1,423\n",
      "Trainable params: 1,423\n",
      "Non-trainable params: 0\n",
      "_________________________________________________________________\n"
     ]
    }
   ],
   "source": [
    "#Summary of model\n",
    "model.summary()"
   ]
  },
  {
   "cell_type": "code",
   "execution_count": 126,
   "id": "96cfa74b",
   "metadata": {
    "scrolled": true
   },
   "outputs": [
    {
     "name": "stdout",
     "output_type": "stream",
     "text": [
      "Epoch 1/100\n",
      "78/78 [==============================] - 3s 6ms/step - loss: 0.5589 - accuracy: 0.8474 - val_loss: 0.4029 - val_accuracy: 0.8333\n",
      "Epoch 2/100\n",
      "78/78 [==============================] - 0s 2ms/step - loss: 0.3409 - accuracy: 0.8574 - val_loss: 0.3284 - val_accuracy: 0.8637\n",
      "Epoch 3/100\n",
      "78/78 [==============================] - 0s 2ms/step - loss: 0.2881 - accuracy: 0.8903 - val_loss: 0.2952 - val_accuracy: 0.8788\n",
      "Epoch 4/100\n",
      "78/78 [==============================] - 0s 2ms/step - loss: 0.2726 - accuracy: 0.8927 - val_loss: 0.2942 - val_accuracy: 0.8792\n",
      "Epoch 5/100\n",
      "78/78 [==============================] - 0s 2ms/step - loss: 0.2677 - accuracy: 0.8925 - val_loss: 0.2852 - val_accuracy: 0.8820\n",
      "Epoch 6/100\n",
      "78/78 [==============================] - 0s 2ms/step - loss: 0.2654 - accuracy: 0.8924 - val_loss: 0.2843 - val_accuracy: 0.8828\n",
      "Epoch 7/100\n",
      "78/78 [==============================] - 0s 2ms/step - loss: 0.2639 - accuracy: 0.8922 - val_loss: 0.2825 - val_accuracy: 0.8828\n",
      "Epoch 8/100\n",
      "78/78 [==============================] - 0s 3ms/step - loss: 0.2628 - accuracy: 0.8946 - val_loss: 0.2814 - val_accuracy: 0.8840\n",
      "Epoch 9/100\n",
      "78/78 [==============================] - 0s 2ms/step - loss: 0.2616 - accuracy: 0.8944 - val_loss: 0.2785 - val_accuracy: 0.8844\n",
      "Epoch 10/100\n",
      "78/78 [==============================] - 0s 2ms/step - loss: 0.2613 - accuracy: 0.8936 - val_loss: 0.2790 - val_accuracy: 0.8836\n",
      "Epoch 11/100\n",
      "78/78 [==============================] - 0s 1ms/step - loss: 0.2601 - accuracy: 0.8936 - val_loss: 0.2785 - val_accuracy: 0.8832\n",
      "Epoch 12/100\n",
      "78/78 [==============================] - 0s 2ms/step - loss: 0.2596 - accuracy: 0.8933 - val_loss: 0.2811 - val_accuracy: 0.8820\n",
      "Epoch 13/100\n",
      "78/78 [==============================] - 0s 3ms/step - loss: 0.2592 - accuracy: 0.8936 - val_loss: 0.2804 - val_accuracy: 0.8832\n",
      "Epoch 14/100\n",
      "78/78 [==============================] - 0s 3ms/step - loss: 0.2591 - accuracy: 0.8940 - val_loss: 0.2773 - val_accuracy: 0.8836\n",
      "Epoch 15/100\n",
      "78/78 [==============================] - 0s 3ms/step - loss: 0.2586 - accuracy: 0.8931 - val_loss: 0.2809 - val_accuracy: 0.8824\n",
      "Epoch 16/100\n",
      "78/78 [==============================] - 0s 3ms/step - loss: 0.2589 - accuracy: 0.8943 - val_loss: 0.2777 - val_accuracy: 0.8832\n",
      "Epoch 17/100\n",
      "78/78 [==============================] - 0s 3ms/step - loss: 0.2589 - accuracy: 0.8936 - val_loss: 0.2786 - val_accuracy: 0.8808\n",
      "Epoch 18/100\n",
      "78/78 [==============================] - 0s 3ms/step - loss: 0.2574 - accuracy: 0.8927 - val_loss: 0.2751 - val_accuracy: 0.8820\n",
      "Epoch 19/100\n",
      "78/78 [==============================] - 0s 3ms/step - loss: 0.2573 - accuracy: 0.8931 - val_loss: 0.2785 - val_accuracy: 0.8808\n",
      "Epoch 20/100\n",
      "78/78 [==============================] - 0s 2ms/step - loss: 0.2573 - accuracy: 0.8937 - val_loss: 0.2783 - val_accuracy: 0.8800\n",
      "Epoch 21/100\n",
      "78/78 [==============================] - 0s 3ms/step - loss: 0.2574 - accuracy: 0.8939 - val_loss: 0.2770 - val_accuracy: 0.8828\n",
      "Epoch 22/100\n",
      "78/78 [==============================] - 0s 2ms/step - loss: 0.2578 - accuracy: 0.8933 - val_loss: 0.2763 - val_accuracy: 0.8832\n",
      "Epoch 23/100\n",
      "78/78 [==============================] - 0s 2ms/step - loss: 0.2574 - accuracy: 0.8930 - val_loss: 0.2758 - val_accuracy: 0.8808\n",
      "Epoch 24/100\n",
      "78/78 [==============================] - 0s 2ms/step - loss: 0.2561 - accuracy: 0.8928 - val_loss: 0.2804 - val_accuracy: 0.8840\n",
      "Epoch 25/100\n",
      "78/78 [==============================] - 0s 2ms/step - loss: 0.2572 - accuracy: 0.8942 - val_loss: 0.2765 - val_accuracy: 0.8836\n",
      "Epoch 26/100\n",
      "78/78 [==============================] - 0s 2ms/step - loss: 0.2568 - accuracy: 0.8929 - val_loss: 0.2789 - val_accuracy: 0.8804\n",
      "Epoch 27/100\n",
      "78/78 [==============================] - 0s 3ms/step - loss: 0.2603 - accuracy: 0.8930 - val_loss: 0.2785 - val_accuracy: 0.8832\n",
      "Epoch 28/100\n",
      "78/78 [==============================] - 0s 2ms/step - loss: 0.2567 - accuracy: 0.8936 - val_loss: 0.2775 - val_accuracy: 0.8828\n",
      "Epoch 29/100\n",
      "78/78 [==============================] - 0s 2ms/step - loss: 0.2554 - accuracy: 0.8945 - val_loss: 0.2761 - val_accuracy: 0.8816\n",
      "Epoch 30/100\n",
      "78/78 [==============================] - 0s 2ms/step - loss: 0.2550 - accuracy: 0.8931 - val_loss: 0.2760 - val_accuracy: 0.8808\n",
      "Epoch 31/100\n",
      "78/78 [==============================] - 0s 2ms/step - loss: 0.2554 - accuracy: 0.8941 - val_loss: 0.2766 - val_accuracy: 0.8832\n",
      "Epoch 32/100\n",
      "78/78 [==============================] - 0s 2ms/step - loss: 0.2547 - accuracy: 0.8938 - val_loss: 0.2779 - val_accuracy: 0.8824\n",
      "Epoch 33/100\n",
      "78/78 [==============================] - 0s 2ms/step - loss: 0.2545 - accuracy: 0.8941 - val_loss: 0.2760 - val_accuracy: 0.8820\n",
      "Epoch 34/100\n",
      "78/78 [==============================] - 0s 2ms/step - loss: 0.2547 - accuracy: 0.8940 - val_loss: 0.2770 - val_accuracy: 0.8800\n",
      "Epoch 35/100\n",
      "78/78 [==============================] - 0s 2ms/step - loss: 0.2539 - accuracy: 0.8946 - val_loss: 0.2754 - val_accuracy: 0.8824\n",
      "Epoch 36/100\n",
      "78/78 [==============================] - 0s 2ms/step - loss: 0.2534 - accuracy: 0.8946 - val_loss: 0.2749 - val_accuracy: 0.8816\n",
      "Epoch 37/100\n",
      "78/78 [==============================] - 0s 2ms/step - loss: 0.2528 - accuracy: 0.8954 - val_loss: 0.2768 - val_accuracy: 0.8808\n",
      "Epoch 38/100\n",
      "78/78 [==============================] - 0s 2ms/step - loss: 0.2532 - accuracy: 0.8959 - val_loss: 0.2806 - val_accuracy: 0.8800\n",
      "Epoch 39/100\n",
      "78/78 [==============================] - 0s 3ms/step - loss: 0.2533 - accuracy: 0.8969 - val_loss: 0.2738 - val_accuracy: 0.8832\n",
      "Epoch 40/100\n",
      "78/78 [==============================] - 0s 3ms/step - loss: 0.2540 - accuracy: 0.8961 - val_loss: 0.2744 - val_accuracy: 0.8824\n",
      "Epoch 41/100\n",
      "78/78 [==============================] - 0s 3ms/step - loss: 0.2525 - accuracy: 0.8966 - val_loss: 0.2769 - val_accuracy: 0.8852\n",
      "Epoch 42/100\n",
      "78/78 [==============================] - 0s 3ms/step - loss: 0.2511 - accuracy: 0.8951 - val_loss: 0.2747 - val_accuracy: 0.8848\n",
      "Epoch 43/100\n",
      "78/78 [==============================] - 0s 3ms/step - loss: 0.2514 - accuracy: 0.8964 - val_loss: 0.2724 - val_accuracy: 0.8828\n",
      "Epoch 44/100\n",
      "78/78 [==============================] - 0s 3ms/step - loss: 0.2530 - accuracy: 0.8970 - val_loss: 0.2749 - val_accuracy: 0.8852\n",
      "Epoch 45/100\n",
      "78/78 [==============================] - 0s 3ms/step - loss: 0.2508 - accuracy: 0.8970 - val_loss: 0.2718 - val_accuracy: 0.8852\n",
      "Epoch 46/100\n",
      "78/78 [==============================] - 0s 2ms/step - loss: 0.2492 - accuracy: 0.8977 - val_loss: 0.2721 - val_accuracy: 0.8844\n",
      "Epoch 47/100\n",
      "78/78 [==============================] - 0s 2ms/step - loss: 0.2497 - accuracy: 0.8976 - val_loss: 0.2706 - val_accuracy: 0.8832\n",
      "Epoch 48/100\n",
      "78/78 [==============================] - 0s 1ms/step - loss: 0.2511 - accuracy: 0.8972 - val_loss: 0.2713 - val_accuracy: 0.8844\n",
      "Epoch 49/100\n",
      "78/78 [==============================] - 0s 1ms/step - loss: 0.2495 - accuracy: 0.8979 - val_loss: 0.2713 - val_accuracy: 0.8832\n",
      "Epoch 50/100\n",
      "78/78 [==============================] - 0s 2ms/step - loss: 0.2483 - accuracy: 0.8981 - val_loss: 0.2734 - val_accuracy: 0.8840\n",
      "Epoch 51/100\n",
      "78/78 [==============================] - 0s 2ms/step - loss: 0.2482 - accuracy: 0.8978 - val_loss: 0.2708 - val_accuracy: 0.8824\n",
      "Epoch 52/100\n",
      "78/78 [==============================] - 0s 2ms/step - loss: 0.2506 - accuracy: 0.8983 - val_loss: 0.2703 - val_accuracy: 0.8812\n",
      "Epoch 53/100\n",
      "78/78 [==============================] - 0s 2ms/step - loss: 0.2474 - accuracy: 0.8981 - val_loss: 0.2730 - val_accuracy: 0.8832\n",
      "Epoch 54/100\n",
      "78/78 [==============================] - 0s 2ms/step - loss: 0.2470 - accuracy: 0.8986 - val_loss: 0.2703 - val_accuracy: 0.8836\n",
      "Epoch 55/100\n",
      "78/78 [==============================] - 0s 2ms/step - loss: 0.2462 - accuracy: 0.8986 - val_loss: 0.2691 - val_accuracy: 0.8808\n",
      "Epoch 56/100\n",
      "78/78 [==============================] - 0s 2ms/step - loss: 0.2467 - accuracy: 0.8995 - val_loss: 0.2690 - val_accuracy: 0.8816\n",
      "Epoch 57/100\n",
      "78/78 [==============================] - 0s 2ms/step - loss: 0.2466 - accuracy: 0.8970 - val_loss: 0.2707 - val_accuracy: 0.8812\n",
      "Epoch 58/100\n",
      "78/78 [==============================] - 0s 3ms/step - loss: 0.2461 - accuracy: 0.8992 - val_loss: 0.2718 - val_accuracy: 0.8820\n"
     ]
    },
    {
     "name": "stdout",
     "output_type": "stream",
     "text": [
      "Epoch 59/100\n",
      "78/78 [==============================] - 0s 3ms/step - loss: 0.2463 - accuracy: 0.8987 - val_loss: 0.2729 - val_accuracy: 0.8816\n",
      "Epoch 60/100\n",
      "78/78 [==============================] - 0s 3ms/step - loss: 0.2456 - accuracy: 0.8997 - val_loss: 0.2713 - val_accuracy: 0.8820\n",
      "Epoch 61/100\n",
      "78/78 [==============================] - 0s 3ms/step - loss: 0.2457 - accuracy: 0.8999 - val_loss: 0.2706 - val_accuracy: 0.8812\n",
      "Epoch 62/100\n",
      "78/78 [==============================] - 0s 3ms/step - loss: 0.2453 - accuracy: 0.8997 - val_loss: 0.2692 - val_accuracy: 0.8820\n",
      "Epoch 63/100\n",
      "78/78 [==============================] - 0s 3ms/step - loss: 0.2450 - accuracy: 0.9003 - val_loss: 0.2711 - val_accuracy: 0.8812\n",
      "Epoch 64/100\n",
      "78/78 [==============================] - 0s 2ms/step - loss: 0.2444 - accuracy: 0.9001 - val_loss: 0.2701 - val_accuracy: 0.8796\n",
      "Epoch 65/100\n",
      "78/78 [==============================] - 0s 2ms/step - loss: 0.2461 - accuracy: 0.8997 - val_loss: 0.2714 - val_accuracy: 0.8808\n",
      "Epoch 66/100\n",
      "78/78 [==============================] - 0s 2ms/step - loss: 0.2449 - accuracy: 0.8992 - val_loss: 0.2688 - val_accuracy: 0.8816\n",
      "Epoch 67/100\n",
      "78/78 [==============================] - 0s 2ms/step - loss: 0.2453 - accuracy: 0.8986 - val_loss: 0.2704 - val_accuracy: 0.8796\n",
      "Epoch 68/100\n",
      "78/78 [==============================] - 0s 2ms/step - loss: 0.2452 - accuracy: 0.8992 - val_loss: 0.2751 - val_accuracy: 0.8800\n",
      "Epoch 69/100\n",
      "78/78 [==============================] - 0s 2ms/step - loss: 0.2437 - accuracy: 0.8997 - val_loss: 0.2743 - val_accuracy: 0.8816\n",
      "Epoch 70/100\n",
      "78/78 [==============================] - 0s 2ms/step - loss: 0.2438 - accuracy: 0.8996 - val_loss: 0.2738 - val_accuracy: 0.8820\n",
      "Epoch 71/100\n",
      "78/78 [==============================] - 0s 2ms/step - loss: 0.2430 - accuracy: 0.8999 - val_loss: 0.2698 - val_accuracy: 0.8800\n",
      "Epoch 72/100\n",
      "78/78 [==============================] - 0s 2ms/step - loss: 0.2447 - accuracy: 0.8992 - val_loss: 0.2716 - val_accuracy: 0.8804\n",
      "Epoch 73/100\n",
      "78/78 [==============================] - 0s 2ms/step - loss: 0.2438 - accuracy: 0.8993 - val_loss: 0.2680 - val_accuracy: 0.8820\n",
      "Epoch 74/100\n",
      "78/78 [==============================] - 0s 2ms/step - loss: 0.2435 - accuracy: 0.8997 - val_loss: 0.2745 - val_accuracy: 0.8800\n",
      "Epoch 75/100\n",
      "78/78 [==============================] - 0s 3ms/step - loss: 0.2438 - accuracy: 0.9003 - val_loss: 0.2704 - val_accuracy: 0.8788\n",
      "Epoch 76/100\n",
      "78/78 [==============================] - 0s 3ms/step - loss: 0.2432 - accuracy: 0.8998 - val_loss: 0.2694 - val_accuracy: 0.8804\n",
      "Epoch 77/100\n",
      "78/78 [==============================] - 0s 3ms/step - loss: 0.2440 - accuracy: 0.9008 - val_loss: 0.2697 - val_accuracy: 0.8792\n",
      "Epoch 78/100\n",
      "78/78 [==============================] - 0s 3ms/step - loss: 0.2430 - accuracy: 0.9001 - val_loss: 0.2702 - val_accuracy: 0.8788\n",
      "Epoch 79/100\n",
      "78/78 [==============================] - 0s 3ms/step - loss: 0.2456 - accuracy: 0.9005 - val_loss: 0.2693 - val_accuracy: 0.8808\n",
      "Epoch 80/100\n",
      "78/78 [==============================] - 0s 3ms/step - loss: 0.2424 - accuracy: 0.8993 - val_loss: 0.2684 - val_accuracy: 0.8816\n",
      "Epoch 81/100\n",
      "78/78 [==============================] - 0s 2ms/step - loss: 0.2423 - accuracy: 0.9010 - val_loss: 0.2703 - val_accuracy: 0.8836\n",
      "Epoch 82/100\n",
      "78/78 [==============================] - 0s 2ms/step - loss: 0.2431 - accuracy: 0.8998 - val_loss: 0.2728 - val_accuracy: 0.8836\n",
      "Epoch 83/100\n",
      "78/78 [==============================] - 0s 2ms/step - loss: 0.2419 - accuracy: 0.8996 - val_loss: 0.2708 - val_accuracy: 0.8800\n",
      "Epoch 84/100\n",
      "78/78 [==============================] - 0s 2ms/step - loss: 0.2421 - accuracy: 0.9010 - val_loss: 0.2706 - val_accuracy: 0.8788\n",
      "Epoch 85/100\n",
      "78/78 [==============================] - 0s 2ms/step - loss: 0.2422 - accuracy: 0.9000 - val_loss: 0.2689 - val_accuracy: 0.8812\n",
      "Epoch 86/100\n",
      "78/78 [==============================] - 0s 2ms/step - loss: 0.2414 - accuracy: 0.9014 - val_loss: 0.2752 - val_accuracy: 0.8796\n",
      "Epoch 87/100\n",
      "78/78 [==============================] - 0s 2ms/step - loss: 0.2426 - accuracy: 0.9009 - val_loss: 0.2822 - val_accuracy: 0.8824\n",
      "Epoch 88/100\n",
      "78/78 [==============================] - 0s 2ms/step - loss: 0.2465 - accuracy: 0.9004 - val_loss: 0.2701 - val_accuracy: 0.8820\n",
      "Epoch 89/100\n",
      "78/78 [==============================] - 0s 2ms/step - loss: 0.2417 - accuracy: 0.9008 - val_loss: 0.2710 - val_accuracy: 0.8828\n",
      "Epoch 90/100\n",
      "78/78 [==============================] - 0s 2ms/step - loss: 0.2413 - accuracy: 0.9004 - val_loss: 0.2700 - val_accuracy: 0.8812\n",
      "Epoch 91/100\n",
      "78/78 [==============================] - 0s 2ms/step - loss: 0.2427 - accuracy: 0.9011 - val_loss: 0.2718 - val_accuracy: 0.8788\n",
      "Epoch 92/100\n",
      "78/78 [==============================] - 0s 3ms/step - loss: 0.2414 - accuracy: 0.9010 - val_loss: 0.2707 - val_accuracy: 0.8828\n",
      "Epoch 93/100\n",
      "78/78 [==============================] - 0s 3ms/step - loss: 0.2428 - accuracy: 0.8996 - val_loss: 0.2714 - val_accuracy: 0.8779\n",
      "Epoch 94/100\n",
      "78/78 [==============================] - 0s 3ms/step - loss: 0.2441 - accuracy: 0.8998 - val_loss: 0.2712 - val_accuracy: 0.8820\n",
      "Epoch 95/100\n",
      "78/78 [==============================] - 0s 3ms/step - loss: 0.2411 - accuracy: 0.9006 - val_loss: 0.2729 - val_accuracy: 0.8816\n",
      "Epoch 96/100\n",
      "78/78 [==============================] - 0s 3ms/step - loss: 0.2410 - accuracy: 0.9004 - val_loss: 0.2711 - val_accuracy: 0.8796\n",
      "Epoch 97/100\n",
      "78/78 [==============================] - 0s 3ms/step - loss: 0.2415 - accuracy: 0.8997 - val_loss: 0.2710 - val_accuracy: 0.8792\n",
      "Epoch 98/100\n",
      "78/78 [==============================] - 0s 3ms/step - loss: 0.2411 - accuracy: 0.9001 - val_loss: 0.2700 - val_accuracy: 0.8816\n",
      "Epoch 99/100\n",
      "78/78 [==============================] - 0s 2ms/step - loss: 0.2406 - accuracy: 0.9006 - val_loss: 0.2714 - val_accuracy: 0.8783\n",
      "Epoch 100/100\n",
      "78/78 [==============================] - 0s 2ms/step - loss: 0.2400 - accuracy: 0.8997 - val_loss: 0.2754 - val_accuracy: 0.8796\n"
     ]
    },
    {
     "data": {
      "text/plain": [
       "<tensorflow.python.keras.callbacks.History at 0x1d5005b7880>"
      ]
     },
     "execution_count": 126,
     "metadata": {},
     "output_type": "execute_result"
    }
   ],
   "source": [
    "#Fitting the ANN to the data\n",
    "model.fit(X_train,y_train,batch_size=128,epochs=100,validation_data=(X_test,y_test))"
   ]
  },
  {
   "cell_type": "markdown",
   "id": "56a430e2",
   "metadata": {},
   "source": [
    "### Early Stopping"
   ]
  },
  {
   "cell_type": "code",
   "execution_count": 127,
   "id": "72c5156a",
   "metadata": {},
   "outputs": [],
   "source": [
    "#Importing EarlyStopping\n",
    "from keras.callbacks import EarlyStopping"
   ]
  },
  {
   "cell_type": "code",
   "execution_count": 128,
   "id": "f1a3738c",
   "metadata": {},
   "outputs": [],
   "source": [
    "#Here we are monitoring 'validation_loss' and mode is 'min' that means, stop if the loss is not decreasing\n",
    "#mode should be 'max' in accuracy as stop training if the accuracy is not increasing\n",
    "#patience=20 means we will wait for 20 epochs even if we detected stopping point\n",
    "early_stop = EarlyStopping(monitor='val_loss',mode='min',verbose=1,patience=20)"
   ]
  },
  {
   "cell_type": "code",
   "execution_count": 129,
   "id": "b4522833",
   "metadata": {
    "scrolled": true
   },
   "outputs": [
    {
     "name": "stdout",
     "output_type": "stream",
     "text": [
      "Epoch 1/100\n",
      "78/78 [==============================] - 0s 2ms/step - loss: 0.2407 - accuracy: 0.9000 - val_loss: 0.2735 - val_accuracy: 0.8816\n",
      "Epoch 2/100\n",
      "78/78 [==============================] - 0s 2ms/step - loss: 0.2415 - accuracy: 0.9004 - val_loss: 0.2735 - val_accuracy: 0.8804\n",
      "Epoch 3/100\n",
      "78/78 [==============================] - 0s 2ms/step - loss: 0.2429 - accuracy: 0.9001 - val_loss: 0.2707 - val_accuracy: 0.8808\n",
      "Epoch 4/100\n",
      "78/78 [==============================] - 0s 2ms/step - loss: 0.2409 - accuracy: 0.8997 - val_loss: 0.2730 - val_accuracy: 0.8804\n",
      "Epoch 5/100\n",
      "78/78 [==============================] - 0s 2ms/step - loss: 0.2406 - accuracy: 0.9001 - val_loss: 0.2708 - val_accuracy: 0.8775\n",
      "Epoch 6/100\n",
      "78/78 [==============================] - 0s 2ms/step - loss: 0.2423 - accuracy: 0.9009 - val_loss: 0.2697 - val_accuracy: 0.8820\n",
      "Epoch 7/100\n",
      "78/78 [==============================] - 0s 2ms/step - loss: 0.2396 - accuracy: 0.9012 - val_loss: 0.2744 - val_accuracy: 0.8775\n",
      "Epoch 8/100\n",
      "78/78 [==============================] - 0s 3ms/step - loss: 0.2407 - accuracy: 0.9006 - val_loss: 0.2723 - val_accuracy: 0.8800\n",
      "Epoch 9/100\n",
      "78/78 [==============================] - 0s 2ms/step - loss: 0.2397 - accuracy: 0.9010 - val_loss: 0.2825 - val_accuracy: 0.8779\n",
      "Epoch 10/100\n",
      "78/78 [==============================] - 0s 2ms/step - loss: 0.2407 - accuracy: 0.9009 - val_loss: 0.2702 - val_accuracy: 0.8771\n",
      "Epoch 11/100\n",
      "78/78 [==============================] - 0s 2ms/step - loss: 0.2409 - accuracy: 0.9001 - val_loss: 0.2710 - val_accuracy: 0.8808\n",
      "Epoch 12/100\n",
      "78/78 [==============================] - 0s 2ms/step - loss: 0.2395 - accuracy: 0.9004 - val_loss: 0.2698 - val_accuracy: 0.8820\n",
      "Epoch 13/100\n",
      "78/78 [==============================] - 0s 2ms/step - loss: 0.2395 - accuracy: 0.9006 - val_loss: 0.2763 - val_accuracy: 0.8820\n",
      "Epoch 14/100\n",
      "78/78 [==============================] - 0s 2ms/step - loss: 0.2399 - accuracy: 0.9006 - val_loss: 0.2721 - val_accuracy: 0.8820\n",
      "Epoch 15/100\n",
      "78/78 [==============================] - 0s 2ms/step - loss: 0.2403 - accuracy: 0.9005 - val_loss: 0.2776 - val_accuracy: 0.8832\n",
      "Epoch 16/100\n",
      "78/78 [==============================] - 0s 3ms/step - loss: 0.2403 - accuracy: 0.9019 - val_loss: 0.2735 - val_accuracy: 0.8820\n",
      "Epoch 17/100\n",
      "78/78 [==============================] - 0s 3ms/step - loss: 0.2407 - accuracy: 0.9004 - val_loss: 0.2746 - val_accuracy: 0.8824\n",
      "Epoch 18/100\n",
      "78/78 [==============================] - 0s 2ms/step - loss: 0.2399 - accuracy: 0.9004 - val_loss: 0.2756 - val_accuracy: 0.8820\n",
      "Epoch 19/100\n",
      "78/78 [==============================] - 0s 2ms/step - loss: 0.2437 - accuracy: 0.9001 - val_loss: 0.2705 - val_accuracy: 0.8820\n",
      "Epoch 20/100\n",
      "78/78 [==============================] - 0s 2ms/step - loss: 0.2394 - accuracy: 0.9009 - val_loss: 0.2715 - val_accuracy: 0.8812\n",
      "Epoch 21/100\n",
      "78/78 [==============================] - 0s 2ms/step - loss: 0.2392 - accuracy: 0.9003 - val_loss: 0.2844 - val_accuracy: 0.8779\n",
      "Epoch 22/100\n",
      "78/78 [==============================] - 0s 2ms/step - loss: 0.2407 - accuracy: 0.8999 - val_loss: 0.2715 - val_accuracy: 0.8820\n",
      "Epoch 23/100\n",
      "78/78 [==============================] - 0s 3ms/step - loss: 0.2399 - accuracy: 0.9012 - val_loss: 0.2724 - val_accuracy: 0.8804\n",
      "Epoch 24/100\n",
      "78/78 [==============================] - 0s 3ms/step - loss: 0.2420 - accuracy: 0.9008 - val_loss: 0.2739 - val_accuracy: 0.8820\n",
      "Epoch 25/100\n",
      "78/78 [==============================] - 0s 3ms/step - loss: 0.2390 - accuracy: 0.9018 - val_loss: 0.2782 - val_accuracy: 0.8824\n",
      "Epoch 26/100\n",
      "78/78 [==============================] - 0s 4ms/step - loss: 0.2408 - accuracy: 0.9014 - val_loss: 0.2775 - val_accuracy: 0.8796\n",
      "Epoch 00026: early stopping\n"
     ]
    },
    {
     "data": {
      "text/plain": [
       "<tensorflow.python.keras.callbacks.History at 0x1d502e25940>"
      ]
     },
     "execution_count": 129,
     "metadata": {},
     "output_type": "execute_result"
    }
   ],
   "source": [
    "#Fitting the ANN to the data with Early Stopping Callback\n",
    "model.fit(X_train,y_train,batch_size=128,epochs=100,validation_data=(X_test,y_test),callbacks=[early_stop])"
   ]
  },
  {
   "cell_type": "code",
   "execution_count": 130,
   "id": "2a9578db",
   "metadata": {},
   "outputs": [
    {
     "data": {
      "text/html": [
       "<div>\n",
       "<style scoped>\n",
       "    .dataframe tbody tr th:only-of-type {\n",
       "        vertical-align: middle;\n",
       "    }\n",
       "\n",
       "    .dataframe tbody tr th {\n",
       "        vertical-align: top;\n",
       "    }\n",
       "\n",
       "    .dataframe thead th {\n",
       "        text-align: right;\n",
       "    }\n",
       "</style>\n",
       "<table border=\"1\" class=\"dataframe\">\n",
       "  <thead>\n",
       "    <tr style=\"text-align: right;\">\n",
       "      <th></th>\n",
       "      <th>loss</th>\n",
       "      <th>accuracy</th>\n",
       "      <th>val_loss</th>\n",
       "      <th>val_accuracy</th>\n",
       "    </tr>\n",
       "  </thead>\n",
       "  <tbody>\n",
       "    <tr>\n",
       "      <th>0</th>\n",
       "      <td>0.240662</td>\n",
       "      <td>0.900041</td>\n",
       "      <td>0.273500</td>\n",
       "      <td>0.881590</td>\n",
       "    </tr>\n",
       "    <tr>\n",
       "      <th>1</th>\n",
       "      <td>0.241515</td>\n",
       "      <td>0.900446</td>\n",
       "      <td>0.273499</td>\n",
       "      <td>0.880373</td>\n",
       "    </tr>\n",
       "    <tr>\n",
       "      <th>2</th>\n",
       "      <td>0.242909</td>\n",
       "      <td>0.900142</td>\n",
       "      <td>0.270709</td>\n",
       "      <td>0.880779</td>\n",
       "    </tr>\n",
       "    <tr>\n",
       "      <th>3</th>\n",
       "      <td>0.240885</td>\n",
       "      <td>0.899736</td>\n",
       "      <td>0.273030</td>\n",
       "      <td>0.880373</td>\n",
       "    </tr>\n",
       "    <tr>\n",
       "      <th>4</th>\n",
       "      <td>0.240635</td>\n",
       "      <td>0.900142</td>\n",
       "      <td>0.270782</td>\n",
       "      <td>0.877534</td>\n",
       "    </tr>\n",
       "  </tbody>\n",
       "</table>\n",
       "</div>"
      ],
      "text/plain": [
       "       loss  accuracy  val_loss  val_accuracy\n",
       "0  0.240662  0.900041  0.273500      0.881590\n",
       "1  0.241515  0.900446  0.273499      0.880373\n",
       "2  0.242909  0.900142  0.270709      0.880779\n",
       "3  0.240885  0.899736  0.273030      0.880373\n",
       "4  0.240635  0.900142  0.270782      0.877534"
      ]
     },
     "execution_count": 130,
     "metadata": {},
     "output_type": "execute_result"
    }
   ],
   "source": [
    "#Losses and Accuracy from Model\n",
    "loss_accuracy = pd.DataFrame(model.history.history)\n",
    "loss_accuracy.head()"
   ]
  },
  {
   "cell_type": "code",
   "execution_count": 132,
   "id": "6743b9bc",
   "metadata": {},
   "outputs": [
    {
     "data": {
      "text/html": [
       "<div>\n",
       "<style scoped>\n",
       "    .dataframe tbody tr th:only-of-type {\n",
       "        vertical-align: middle;\n",
       "    }\n",
       "\n",
       "    .dataframe tbody tr th {\n",
       "        vertical-align: top;\n",
       "    }\n",
       "\n",
       "    .dataframe thead th {\n",
       "        text-align: right;\n",
       "    }\n",
       "</style>\n",
       "<table border=\"1\" class=\"dataframe\">\n",
       "  <thead>\n",
       "    <tr style=\"text-align: right;\">\n",
       "      <th></th>\n",
       "      <th>loss</th>\n",
       "      <th>val_loss</th>\n",
       "    </tr>\n",
       "  </thead>\n",
       "  <tbody>\n",
       "    <tr>\n",
       "      <th>0</th>\n",
       "      <td>0.240662</td>\n",
       "      <td>0.273500</td>\n",
       "    </tr>\n",
       "    <tr>\n",
       "      <th>1</th>\n",
       "      <td>0.241515</td>\n",
       "      <td>0.273499</td>\n",
       "    </tr>\n",
       "    <tr>\n",
       "      <th>2</th>\n",
       "      <td>0.242909</td>\n",
       "      <td>0.270709</td>\n",
       "    </tr>\n",
       "    <tr>\n",
       "      <th>3</th>\n",
       "      <td>0.240885</td>\n",
       "      <td>0.273030</td>\n",
       "    </tr>\n",
       "    <tr>\n",
       "      <th>4</th>\n",
       "      <td>0.240635</td>\n",
       "      <td>0.270782</td>\n",
       "    </tr>\n",
       "  </tbody>\n",
       "</table>\n",
       "</div>"
      ],
      "text/plain": [
       "       loss  val_loss\n",
       "0  0.240662  0.273500\n",
       "1  0.241515  0.273499\n",
       "2  0.242909  0.270709\n",
       "3  0.240885  0.273030\n",
       "4  0.240635  0.270782"
      ]
     },
     "execution_count": 132,
     "metadata": {},
     "output_type": "execute_result"
    }
   ],
   "source": [
    "losses = loss_accuracy[['loss','val_loss']]\n",
    "losses.head()"
   ]
  },
  {
   "cell_type": "code",
   "execution_count": 133,
   "id": "d13284ad",
   "metadata": {},
   "outputs": [
    {
     "data": {
      "text/plain": [
       "<AxesSubplot:>"
      ]
     },
     "execution_count": 133,
     "metadata": {},
     "output_type": "execute_result"
    },
    {
     "data": {
      "image/png": "[encoded data removed]",
      "text/plain": [
       "<Figure size 432x288 with 1 Axes>"
      ]
     },
     "metadata": {
      "needs_background": "light"
     },
     "output_type": "display_data"
    }
   ],
   "source": [
    "losses.plot()"
   ]
  },
  {
   "cell_type": "markdown",
   "id": "8fa84f45",
   "metadata": {},
   "source": [
    "### Predictions"
   ]
  },
  {
   "cell_type": "code",
   "execution_count": 134,
   "id": "2f5d4bae",
   "metadata": {},
   "outputs": [
    {
     "name": "stderr",
     "output_type": "stream",
     "text": [
      "C:\\Users\\pulkit\\Anaconda3\\lib\\site-packages\\tensorflow\\python\\keras\\engine\\sequential.py:455: UserWarning: `model.predict_classes()` is deprecated and will be removed after 2021-01-01. Please use instead:* `np.argmax(model.predict(x), axis=-1)`,   if your model does multi-class classification   (e.g. if it uses a `softmax` last-layer activation).* `(model.predict(x) > 0.5).astype(\"int32\")`,   if your model does binary classification   (e.g. if it uses a `sigmoid` last-layer activation).\n",
      "  warnings.warn('`model.predict_classes()` is deprecated and '\n"
     ]
    }
   ],
   "source": [
    "#Predicting the test results\n",
    "y_pred = model.predict_classes(X_test)"
   ]
  },
  {
   "cell_type": "code",
   "execution_count": 138,
   "id": "61ae93fd",
   "metadata": {},
   "outputs": [],
   "source": [
    "#Same as above\n",
    "y_pred = (model.predict(X_test) > 0.5).astype(\"int32\")"
   ]
  },
  {
   "cell_type": "code",
   "execution_count": 139,
   "id": "6bb9fecb",
   "metadata": {},
   "outputs": [
    {
     "data": {
      "text/plain": [
       "array([[0],\n",
       "       [0],\n",
       "       [0],\n",
       "       ...,\n",
       "       [0],\n",
       "       [0],\n",
       "       [0]])"
      ]
     },
     "execution_count": 139,
     "metadata": {},
     "output_type": "execute_result"
    }
   ],
   "source": [
    "y_pred"
   ]
  },
  {
   "cell_type": "code",
   "execution_count": 140,
   "id": "fcec0c2c",
   "metadata": {},
   "outputs": [
    {
     "data": {
      "text/plain": [
       "2466"
      ]
     },
     "execution_count": 140,
     "metadata": {},
     "output_type": "execute_result"
    }
   ],
   "source": [
    "len(y_pred)"
   ]
  },
  {
   "cell_type": "markdown",
   "id": "5c314e18",
   "metadata": {},
   "source": [
    "## Evaluation Metrics"
   ]
  },
  {
   "cell_type": "code",
   "execution_count": 141,
   "id": "e8c8b9ab",
   "metadata": {},
   "outputs": [],
   "source": [
    "#Confusion matrix\n",
    "from sklearn.metrics import confusion_matrix,accuracy_score,classification_report"
   ]
  },
  {
   "cell_type": "code",
   "execution_count": 143,
   "id": "6cef61a4",
   "metadata": {},
   "outputs": [
    {
     "name": "stdout",
     "output_type": "stream",
     "text": [
      "[[1983   72]\n",
      " [ 225  186]]\n"
     ]
    }
   ],
   "source": [
    "print(confusion_matrix(y_test,y_pred))"
   ]
  },
  {
   "cell_type": "code",
   "execution_count": 144,
   "id": "c2b86451",
   "metadata": {},
   "outputs": [
    {
     "name": "stdout",
     "output_type": "stream",
     "text": [
      "              precision    recall  f1-score   support\n",
      "\n",
      "         0.0       0.90      0.96      0.93      2055\n",
      "         1.0       0.72      0.45      0.56       411\n",
      "\n",
      "    accuracy                           0.88      2466\n",
      "   macro avg       0.81      0.71      0.74      2466\n",
      "weighted avg       0.87      0.88      0.87      2466\n",
      "\n"
     ]
    }
   ],
   "source": [
    "print(classification_report(y_test,y_pred))"
   ]
  },
  {
   "cell_type": "code",
   "execution_count": 145,
   "id": "f2f9c336",
   "metadata": {},
   "outputs": [
    {
     "data": {
      "text/plain": [
       "0.8795620437956204"
      ]
     },
     "execution_count": 145,
     "metadata": {},
     "output_type": "execute_result"
    }
   ],
   "source": [
    "#Accuracy\n",
    "accuracy_score(y_test,y_pred)"
   ]
  },
  {
   "cell_type": "code",
   "execution_count": 146,
   "id": "6d4511e7",
   "metadata": {},
   "outputs": [
    {
     "data": {
      "text/plain": [
       "['loss', 'accuracy']"
      ]
     },
     "execution_count": 146,
     "metadata": {},
     "output_type": "execute_result"
    }
   ],
   "source": [
    "model.metrics_names"
   ]
  },
  {
   "cell_type": "code",
   "execution_count": 147,
   "id": "496d65d5",
   "metadata": {},
   "outputs": [
    {
     "name": "stdout",
     "output_type": "stream",
     "text": [
      "78/78 [==============================] - 0s 1ms/step - loss: 0.2775 - accuracy: 0.8796\n"
     ]
    },
    {
     "data": {
      "text/plain": [
       "[0.27748584747314453, 0.8795620203018188]"
      ]
     },
     "execution_count": 147,
     "metadata": {},
     "output_type": "execute_result"
    }
   ],
   "source": [
    "model.evaluate(X_test,y_test)"
   ]
  },
  {
   "cell_type": "markdown",
   "id": "598b8209",
   "metadata": {},
   "source": [
    "Model is reaching loss of 28% and accuracy of approx. 88%"
   ]
  },
  {
   "cell_type": "markdown",
   "id": "e5a4f559",
   "metadata": {},
   "source": [
    "### Save the model"
   ]
  },
  {
   "cell_type": "code",
   "execution_count": 177,
   "id": "fa28a9a1",
   "metadata": {},
   "outputs": [],
   "source": [
    "model.save('customer_revenue_model.h5')"
   ]
  }
 ],
 "metadata": {
  "kernelspec": {
   "display_name": "Python 3",
   "language": "python",
   "name": "python3"
  },
  "language_info": {
   "codemirror_mode": {
    "name": "ipython",
    "version": 3
   },
   "file_extension": ".py",
   "mimetype": "text/x-python",
   "name": "python",
   "nbconvert_exporter": "python",
   "pygments_lexer": "ipython3",
   "version": "3.8.8"
  }
 },
 "nbformat": 4,
 "nbformat_minor": 5
}
